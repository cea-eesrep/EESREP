{
 "cells": [
  {
   "cell_type": "markdown",
   "metadata": {},
   "source": [
    "## MILP tutorial 4 : add a time dimension to a MILP problem\n",
    "\n",
    "This tutorial requires a full understanding of the previous tutorials of the serie\n",
    "\n",
    "In this tutorial, we add correlations to the time steps to simulate a storage. "
   ]
  },
  {
   "cell_type": "markdown",
   "metadata": {},
   "source": [
    "####   Create a MILP model with a time dimension and correlated time steps\n",
    "\n",
    "This problem will be similar to the tutorial 2: we a variable load with time to provide from two different means: energy packages of 7MWh, or a continuous energy source.\n",
    "\n",
    "The problem properties at each time step are the following:\n",
    "\n",
    "-   20 time steps\n",
    "-   0 MW <= Load(t) <= 20 MW\n",
    "-   Prod1 :\n",
    "    - package energy : 7MWh\n",
    "    - price : 1€ / MWh\n",
    "    - maximum packages count : 25\n",
    "-   Prod2 :\n",
    "    - maximum power : 15MW\n",
    "    - price : 5€ / MW\n",
    "\n",
    "Intuitively, we expect the production 1 to provide as many packages as possible, and provide the remaining load with the production 2."
   ]
  },
  {
   "cell_type": "code",
   "execution_count": 1,
   "metadata": {},
   "outputs": [],
   "source": [
    "# Import the Docplex Model object that manages the problem and its resolution\n",
    "import math\n",
    "import matplotlib.pyplot as plt\n",
    "from docplex.mp.model import Model\n",
    "\n",
    "model = Model()"
   ]
  },
  {
   "cell_type": "markdown",
   "metadata": {},
   "source": [
    "We request here three variable lists:\n",
    "\n",
    "- production 1 : count of package provided at each time step;\n",
    "- production 2 : production of the second mean;\n",
    "- package_available : count of package remaining (will decrement with production 1).\n",
    "\n",
    "Note that even though the package_available will only store integers, it is suffisient to request continuous variables as they will only be subtracted integers. Integer variables are costly in term of computation time, so they must be avoided as much as possibe."
   ]
  },
  {
   "cell_type": "code",
   "execution_count": 2,
   "metadata": {},
   "outputs": [],
   "source": [
    "production_1 = model.integer_var_list(20, lb=0, ub=None, name=\"production_1\")\n",
    "production_2 = model.continuous_var_list(20, lb=0, ub=15, name=\"production_2\")\n",
    "\n",
    "package_available = model.continuous_var_list(20, lb=0, ub=None, name=\"package_available\")"
   ]
  },
  {
   "cell_type": "markdown",
   "metadata": {},
   "source": [
    "The load is here set to a sinusoidal value with time."
   ]
  },
  {
   "cell_type": "code",
   "execution_count": 3,
   "metadata": {},
   "outputs": [],
   "source": [
    "load = [15+5*math.sin(i/2) for i in range(20)]"
   ]
  },
  {
   "cell_type": "markdown",
   "metadata": {},
   "source": [
    "The constraints can now be added at each time step:\n",
    "\n",
    "- The productions equal the load;\n",
    "- at the first time step, the packages available equals 25 (initial storage) - consumption at the first time step;\n",
    "- later, the package available are decremented by the consumption.\n",
    "\n",
    "The objective is incremented with the price of the production means at each time step."
   ]
  },
  {
   "cell_type": "code",
   "execution_count": 4,
   "metadata": {},
   "outputs": [],
   "source": [
    "objective = 0\n",
    "for i in range(20):\n",
    "    model += 7 * production_1[i] + production_2[i] == load[i]\n",
    "\n",
    "    if i == 0:\n",
    "        model += package_available[i] == 25 - production_1[i]\n",
    "    else:\n",
    "        model += package_available[i] == package_available[i-1] - production_1[i]\n",
    "\n",
    "    objective += 1 * production_1[i] + 5 * production_2[i]"
   ]
  },
  {
   "cell_type": "markdown",
   "metadata": {},
   "source": [
    "We can now provide the objective of the model that we are willing to minimize."
   ]
  },
  {
   "cell_type": "code",
   "execution_count": 5,
   "metadata": {},
   "outputs": [],
   "source": [
    "model.set_objective(\"min\", objective)"
   ]
  },
  {
   "cell_type": "markdown",
   "metadata": {},
   "source": [
    "For education purposes, it can be very informative to write down the model that the solver will read, it can be done using the command:"
   ]
  },
  {
   "cell_type": "code",
   "execution_count": 6,
   "metadata": {},
   "outputs": [
    {
     "data": {
      "text/plain": [
       "'my_multiple_milp_problem.lp'"
      ]
     },
     "execution_count": 6,
     "metadata": {},
     "output_type": "execute_result"
    }
   ],
   "source": [
    "model.export_as_lp(\"my_multiple_milp_problem.lp\")"
   ]
  },
  {
   "cell_type": "markdown",
   "metadata": {},
   "source": [
    "The problem can now be solved."
   ]
  },
  {
   "cell_type": "code",
   "execution_count": 7,
   "metadata": {},
   "outputs": [
    {
     "name": "stdout",
     "output_type": "stream",
     "text": [
      "CPXPARAM_Read_DataCheck                          1\n",
      "Tried aggregator 2 times.\n",
      "MIP Presolve eliminated 21 rows and 41 columns.\n",
      "Aggregator did 19 substitutions.\n",
      "All rows and columns eliminated.\n",
      "Presolve time = 0.02 sec. (0.07 ticks)\n",
      "\n",
      "Root node processing (before b&c):\n",
      "  Real time             =    0.02 sec. (0.08 ticks)\n",
      "Parallel b&c, 8 threads:\n",
      "  Real time             =    0.00 sec. (0.00 ticks)\n",
      "  Sync time (average)   =    0.00 sec.\n",
      "  Wait time (average)   =    0.00 sec.\n",
      "                          ------------\n",
      "Total (root+branch&cut) =    0.02 sec. (0.08 ticks)\n"
     ]
    },
    {
     "data": {
      "text/plain": [
       "docplex.mp.solution.SolveSolution(obj=746.83,values={production_1_1:1,pr.."
      ]
     },
     "execution_count": 7,
     "metadata": {},
     "output_type": "execute_result"
    }
   ],
   "source": [
    "model.solve(log_output = True)"
   ]
  },
  {
   "cell_type": "markdown",
   "metadata": {},
   "source": [
    "#### Results plot\n",
    "\n",
    "We can see that as expected, there is no remaining package at the end of the simulation as they are much cheaper than the production 2.\n",
    "\n",
    "It is also important to note that the problem does not have a unique solution: the system could spend all of its packages as fast as possible, save the for the end or spend one per time step. Both solutions would have the same cost function. This issue appears in most problems with storage/production at the same cost. \n",
    "\n",
    "A way to close the multiple solutions issue would be to set a time dependant price: adding a very small increasing price to the packages would make the solver consume them as fast as possible as they are cheaper at the first time steps. This is illustrated in EESREP tips & tricks tutorials."
   ]
  },
  {
   "cell_type": "code",
   "execution_count": 8,
   "metadata": {},
   "outputs": [
    {
     "data": {
      "image/png": "[encoded data removed]",
      "text/plain": [
       "<Figure size 720x432 with 2 Axes>"
      ]
     },
     "metadata": {
      "needs_background": "light"
     },
     "output_type": "display_data"
    }
   ],
   "source": [
    "prod_1_solution = [7*val.solution_value for val in production_1]\n",
    "prod_2_solution = [val.solution_value for val in production_2]\n",
    "\n",
    "package_consumption_solution = [val.solution_value for val in production_1]\n",
    "package_left_solution = [val.solution_value for val in package_available]\n",
    "\n",
    "plt.figure(figsize=(10,6))\n",
    "plt.subplot(2,1,1)\n",
    "plt.plot(range(0,20), prod_1_solution, label = \"Producion 1\")\n",
    "plt.plot(range(0,20), prod_2_solution, label = \"Producion 2\")\n",
    "plt.plot(range(0,20), load, label = \"Load\")\n",
    "plt.legend()\n",
    "\n",
    "plt.subplot(2,1,2)\n",
    "plt.plot(range(0,20), package_consumption_solution, label = \"Package consumption\")\n",
    "plt.plot(range(0,20), package_left_solution, label = \"Remaining packages\")\n",
    "\n",
    "plt.legend()\n",
    "plt.show()"
   ]
  }
 ],
 "metadata": {
  "kernelspec": {
   "display_name": "Python 3.8.6 64-bit",
   "language": "python",
   "name": "python3"
  },
  "language_info": {
   "codemirror_mode": {
    "name": "ipython",
    "version": 3
   },
   "file_extension": ".py",
   "mimetype": "text/x-python",
   "name": "python",
   "nbconvert_exporter": "python",
   "pygments_lexer": "ipython3",
   "version": "3.8.6"
  },
  "orig_nbformat": 4,
  "vscode": {
   "interpreter": {
    "hash": "607c9d130faaa095f31b442aeb6137952055d42a4967c60029f806fc28f5e80d"
   }
  }
 },
 "nbformat": 4,
 "nbformat_minor": 2
}
