{
 "cells": [
  {
   "cell_type": "markdown",
   "metadata": {},
   "source": [
    "## User tutorial 2 : few components model\n",
    "\n",
    "This tutorial show how to set up and solve a few components model using EESREP. For a full understanding, read the first tutorial before.\n",
    "\n",
    "\n",
    "This model takes four main components:\n",
    "\n",
    "-   load : requests a pre-defined amount of energy;\n",
    "-   cluster : group of N machines providing energy between its minimal and maximal power when turned-on;\n",
    "-   fuel : provides the energy requested by the cluster;\n",
    "-   expensive_unit : provides the remaining energy at a higher cost than the cluster.\n",
    "\n",
    "A \"bus\" is added to make a \"low of the nodes\" between the inputs and the outputs.\n",
    "\n",
    "The structure of the model can be illustrated as follow:\n",
    "\n",
    "                expensive_unit -->  |\n",
    "                                    | -->  load\n",
    "              fuel --> cluster -->  |"
   ]
  },
  {
   "cell_type": "markdown",
   "metadata": {},
   "source": [
    "####   Imports"
   ]
  },
  {
   "cell_type": "code",
   "execution_count": 1,
   "metadata": {},
   "outputs": [],
   "source": [
    "import math\n",
    "\n",
    "import matplotlib.pyplot as plt\n",
    "import pandas as pd\n",
    "\n",
    "from eesrep import Eesrep\n",
    "from eesrep.components.converter import Cluster\n",
    "from eesrep.components.sink_source import FatalSink, Sink, Source"
   ]
  },
  {
   "cell_type": "markdown",
   "metadata": {},
   "source": [
    "####   Create model"
   ]
  },
  {
   "cell_type": "markdown",
   "metadata": {},
   "source": [
    "Create the Eesrep object and every components.\n",
    "\n",
    "A fictive component **price_cluster_on** is added to force the cluster to turn on only when needed, but is not necessary to model this system."
   ]
  },
  {
   "cell_type": "code",
   "execution_count": 2,
   "metadata": {},
   "outputs": [],
   "source": [
    "model_A = Eesrep(interface=\"docplex\", name=\"model_A\")\n",
    "\n",
    "fuel_A = Source(name=\"fuel\", p_min = 0., p_max = 50, price=.5)\n",
    "\n",
    "fs_df_A = pd.DataFrame({\"time\": list(range(1001)), \n",
    "                            \"value\": [i*100/1000 for i in range(1001)]})\n",
    "\n",
    "load_A = FatalSink(name=\"load\", \n",
    "                        sink_flow = fs_df_A)\n",
    "\n",
    "model_A.add_component(fuel_A)\n",
    "model_A.add_component(load_A)\n",
    "\n",
    "model_A.create_bus(bus_type = \"bus\", \n",
    "                    options = {\n",
    "                                \"name\":\"bus_A\"\n",
    "                            })\n",
    "                            \n",
    "model_A.plug_to_bus(io = fuel_A.power_out, bus_name = \"bus_A\", is_input = True, factor=1., offset=0.)\n",
    "model_A.plug_to_bus(io = load_A.power_in, bus_name = \"bus_A\", is_input = False, factor=1., offset=0.)"
   ]
  },
  {
   "cell_type": "code",
   "execution_count": 3,
   "metadata": {},
   "outputs": [],
   "source": [
    "model_B = Eesrep(interface=\"docplex\", name=\"model_B\")\n",
    "\n",
    "fuel_B = Source(name=\"fuel\", p_min = 0., p_max = 200, price=.5)\n",
    "\n",
    "fs_df_B = pd.DataFrame({\"time\": list(range(1001)), \n",
    "                            \"value\": [i*100/1000 for i in range(1001)]})\n",
    "\n",
    "load_B = FatalSink(name=\"load\", \n",
    "                        sink_flow = fs_df_B)\n",
    "\n",
    "model_B.add_component(fuel_B)\n",
    "model_B.add_component(load_B)\n",
    "\n",
    "model_B.create_bus(bus_type = \"bus\", \n",
    "                    options = {\n",
    "                                \"name\":\"bus_B\"\n",
    "                            })\n",
    "                            \n",
    "model_B.plug_to_bus(io = fuel_B.power_out, bus_name = \"bus_B\", is_input = True, factor=1., offset=0.)\n",
    "model_B.plug_to_bus(io = load_B.power_in, bus_name = \"bus_B\", is_input = False, factor=1., offset=0.)"
   ]
  },
  {
   "cell_type": "code",
   "execution_count": 4,
   "metadata": {},
   "outputs": [],
   "source": [
    "model = Eesrep(interface=\"docplex\")\n",
    "\n",
    "model.add_submodel(model_A)\n",
    "model.add_submodel(model_B)\n",
    "\n",
    "model.get_component_io()"
   ]
  },
  {
   "cell_type": "markdown",
   "metadata": {},
   "source": [
    "####   Set up simulation"
   ]
  },
  {
   "cell_type": "markdown",
   "metadata": {},
   "source": [
    "In this tutorial, we ask EESREP to split the 1000 time steps resolution in 10 * 100 time steps. Each resolution will start 100 steps after the previous, making no overlap between each resolution.\n",
    "\n",
    "Each resolution is faster, but more are required. A good balance needs to be found between the time range parameters to get a proper result at a good computation time.\n",
    "\n",
    "    |-- 100 steps --|  Rolling horizon 1\n",
    "                    |-- 100 steps --|  Rolling horizon 2\n",
    "                                    |-- 100 steps --|  Rolling horizon 3\n"
   ]
  },
  {
   "cell_type": "code",
   "execution_count": 5,
   "metadata": {},
   "outputs": [],
   "source": [
    "model.define_time_range(time_step = 1., \n",
    "                        time_shift = 100, \n",
    "                        future_size = 100, \n",
    "                        horizon_count = 10)"
   ]
  },
  {
   "cell_type": "markdown",
   "metadata": {},
   "source": [
    "####   Solve and get results"
   ]
  },
  {
   "cell_type": "code",
   "execution_count": 6,
   "metadata": {},
   "outputs": [
    {
     "name": "stdout",
     "output_type": "stream",
     "text": [
      "Running first time step\n",
      "Running time step 2\n",
      "Running time step 3\n",
      "Running time step 4\n",
      "Running time step 5\n",
      "Running time step 6\n"
     ]
    },
    {
     "ename": "UnsolvableProblemException",
     "evalue": "The given problem is not solvable.",
     "output_type": "error",
     "traceback": [
      "\u001b[1;31m---------------------------------------------------------------------------\u001b[0m",
      "\u001b[1;31mUnsolvableProblemException\u001b[0m                Traceback (most recent call last)",
      "\u001b[1;32m<ipython-input-6-2f38ba5ac833>\u001b[0m in \u001b[0;36m<module>\u001b[1;34m\u001b[0m\n\u001b[1;32m----> 1\u001b[1;33m \u001b[0mmodel\u001b[0m\u001b[1;33m.\u001b[0m\u001b[0msolve\u001b[0m\u001b[1;33m(\u001b[0m\u001b[1;33m)\u001b[0m\u001b[1;33m\u001b[0m\u001b[1;33m\u001b[0m\u001b[0m\n\u001b[0m\u001b[0;32m      2\u001b[0m \u001b[0mresults\u001b[0m \u001b[1;33m=\u001b[0m \u001b[0mmodel\u001b[0m\u001b[1;33m.\u001b[0m\u001b[0mget_results\u001b[0m\u001b[1;33m(\u001b[0m\u001b[0mas_dataframe\u001b[0m\u001b[1;33m=\u001b[0m\u001b[1;32mFalse\u001b[0m\u001b[1;33m)\u001b[0m\u001b[1;33m\u001b[0m\u001b[1;33m\u001b[0m\u001b[0m\n",
      "\u001b[1;32mc:\\users\\tm787802\\pictures\\meme\\eesrep\\eesrep\\main.py\u001b[0m in \u001b[0;36msolve\u001b[1;34m(self, solve_parameters)\u001b[0m\n\u001b[0;32m    884\u001b[0m \u001b[1;33m\u001b[0m\u001b[0m\n\u001b[0;32m    885\u001b[0m                 \u001b[0mself\u001b[0m\u001b[1;33m.\u001b[0m\u001b[0m_init_time_step\u001b[0m\u001b[1;33m(\u001b[0m\u001b[1;33m)\u001b[0m\u001b[1;33m\u001b[0m\u001b[1;33m\u001b[0m\u001b[0m\n\u001b[1;32m--> 886\u001b[1;33m                 \u001b[0mself\u001b[0m\u001b[1;33m.\u001b[0m\u001b[0m_solve_time_step\u001b[0m\u001b[1;33m(\u001b[0m\u001b[1;33m)\u001b[0m\u001b[1;33m\u001b[0m\u001b[1;33m\u001b[0m\u001b[0m\n\u001b[0m\u001b[0;32m    887\u001b[0m                 \u001b[0mself\u001b[0m\u001b[1;33m.\u001b[0m\u001b[0m_terminate_time_step\u001b[0m\u001b[1;33m(\u001b[0m\u001b[1;33m)\u001b[0m\u001b[1;33m\u001b[0m\u001b[1;33m\u001b[0m\u001b[0m\n\u001b[0;32m    888\u001b[0m         \u001b[1;32melse\u001b[0m\u001b[1;33m:\u001b[0m\u001b[1;33m\u001b[0m\u001b[1;33m\u001b[0m\u001b[0m\n",
      "\u001b[1;32mc:\\users\\tm787802\\pictures\\meme\\eesrep\\eesrep\\main.py\u001b[0m in \u001b[0;36m_solve_time_step\u001b[1;34m(self)\u001b[0m\n\u001b[0;32m    931\u001b[0m     \u001b[1;32mdef\u001b[0m \u001b[0m_solve_time_step\u001b[0m\u001b[1;33m(\u001b[0m\u001b[0mself\u001b[0m\u001b[1;33m)\u001b[0m\u001b[1;33m:\u001b[0m\u001b[1;33m\u001b[0m\u001b[1;33m\u001b[0m\u001b[0m\n\u001b[0;32m    932\u001b[0m         \u001b[1;34m\"\"\"Solves the current horizon.\"\"\"\u001b[0m\u001b[1;33m\u001b[0m\u001b[1;33m\u001b[0m\u001b[0m\n\u001b[1;32m--> 933\u001b[1;33m         \u001b[0mself\u001b[0m\u001b[1;33m.\u001b[0m\u001b[0m__model\u001b[0m\u001b[1;33m.\u001b[0m\u001b[0msolve\u001b[0m\u001b[1;33m(\u001b[0m\u001b[0msolve_parameters\u001b[0m\u001b[1;33m=\u001b[0m\u001b[0mself\u001b[0m\u001b[1;33m.\u001b[0m\u001b[0msolve_parameters\u001b[0m\u001b[1;33m)\u001b[0m\u001b[1;33m\u001b[0m\u001b[1;33m\u001b[0m\u001b[0m\n\u001b[0m\u001b[0;32m    934\u001b[0m \u001b[1;33m\u001b[0m\u001b[0m\n\u001b[0;32m    935\u001b[0m     \u001b[1;31m#@profile\u001b[0m\u001b[1;33m\u001b[0m\u001b[1;33m\u001b[0m\u001b[1;33m\u001b[0m\u001b[0m\n",
      "\u001b[1;32mc:\\users\\tm787802\\pictures\\meme\\eesrep\\eesrep\\solver_interface\\docplex_interface.py\u001b[0m in \u001b[0;36msolve\u001b[1;34m(self, solve_parameters)\u001b[0m\n\u001b[0;32m    223\u001b[0m \u001b[1;33m\u001b[0m\u001b[0m\n\u001b[0;32m    224\u001b[0m         \u001b[1;32mif\u001b[0m \u001b[0mself\u001b[0m\u001b[1;33m.\u001b[0m\u001b[0msolve_status\u001b[0m \u001b[1;32mis\u001b[0m \u001b[1;32mNone\u001b[0m\u001b[1;33m:\u001b[0m\u001b[1;33m\u001b[0m\u001b[1;33m\u001b[0m\u001b[0m\n\u001b[1;32m--> 225\u001b[1;33m             \u001b[1;32mraise\u001b[0m \u001b[0mUnsolvableProblemException\u001b[0m\u001b[1;33m(\u001b[0m\u001b[1;33m)\u001b[0m\u001b[1;33m\u001b[0m\u001b[1;33m\u001b[0m\u001b[0m\n\u001b[0m\u001b[0;32m    226\u001b[0m \u001b[1;33m\u001b[0m\u001b[0m\n\u001b[0;32m    227\u001b[0m     \u001b[1;32mdef\u001b[0m \u001b[0mget_results_from_variables\u001b[0m\u001b[1;33m(\u001b[0m\u001b[0mself\u001b[0m\u001b[1;33m,\u001b[0m \u001b[0mvariable_dict\u001b[0m\u001b[1;33m)\u001b[0m \u001b[1;33m->\u001b[0m \u001b[0mpd\u001b[0m\u001b[1;33m.\u001b[0m\u001b[0mDataFrame\u001b[0m\u001b[1;33m:\u001b[0m\u001b[1;33m\u001b[0m\u001b[1;33m\u001b[0m\u001b[0m\n",
      "\u001b[1;31mUnsolvableProblemException\u001b[0m: The given problem is not solvable."
     ]
    }
   ],
   "source": [
    "model.solve()\n",
    "results = model.get_results(as_dataframe=False)"
   ]
  },
  {
   "cell_type": "code",
   "execution_count": null,
   "metadata": {},
   "outputs": [],
   "source": [
    "print(results.keys())\n",
    "print(results[\"model_A_fuel\"].keys())"
   ]
  },
  {
   "cell_type": "markdown",
   "metadata": {},
   "source": [
    "The cluster provides all of the requested power as it is cheaper than the other source.\n",
    "\n",
    "We can see that the cluster turns on machines incrementally as the requested load increases."
   ]
  },
  {
   "cell_type": "code",
   "execution_count": null,
   "metadata": {},
   "outputs": [],
   "source": [
    "plt.figure(figsize=(10,5))\n",
    "plt.subplot(121)\n",
    "plt.plot(results[\"model_A_fuel\"][\"power_out\"], label = \"model_A_fuel\", color=\"r\")\n",
    "plt.plot(results[\"model_A_load\"][\"power_in\"], label = \"Load\", linestyle = \"dashed\", color=\"yellow\")\n",
    "plt.legend()\n",
    "plt.subplot(122)\n",
    "plt.plot(results[\"model_B_fuel\"][\"power_out\"], label = \"model_B_fuel\", color=\"g\")\n",
    "plt.plot(results[\"model_B_load\"][\"power_in\"], label = \"Load\", linestyle = \"dashed\", color=\"yellow\")\n",
    "plt.legend()\n",
    "plt.show()"
   ]
  }
 ],
 "metadata": {
  "kernelspec": {
   "display_name": "Python 3.7.9 64-bit",
   "language": "python",
   "name": "python3"
  },
  "language_info": {
   "codemirror_mode": {
    "name": "ipython",
    "version": 3
   },
   "file_extension": ".py",
   "mimetype": "text/x-python",
   "name": "python",
   "nbconvert_exporter": "python",
   "pygments_lexer": "ipython3",
   "version": "3.7.9"
  },
  "orig_nbformat": 4,
  "vscode": {
   "interpreter": {
    "hash": "d49c3f6d6dd49f9272b571d9fad348ab55b8c6c3f691520d74ed0af1f69c3dd8"
   }
  }
 },
 "nbformat": 4,
 "nbformat_minor": 2
}
