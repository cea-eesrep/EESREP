{
 "cells": [
  {
   "cell_type": "markdown",
   "metadata": {},
   "source": [
    "## User tutorial 2 : few components model\n",
    "\n",
    "This tutorial show how to set up and solve a few components model using EESREP. For a full understanding, read the first tutorial before.\n",
    "\n",
    "\n",
    "This model takes four main components:\n",
    "\n",
    "-   load : requests a pre-defined amount of energy;\n",
    "-   cluster : group of N machines providing energy between its minimal and maximal power when turned-on;\n",
    "-   fuel : provides the energy requested by the cluster;\n",
    "-   expensive_unit : provides the remaining energy at a higher cost than the cluster.\n",
    "\n",
    "A \"bus\" is added to make a \"low of the nodes\" between the inputs and the outputs.\n",
    "\n",
    "The structure of the model can be illustrated as follow:\n",
    "\n",
    "                expensive_unit -->  |\n",
    "                                    | -->  load\n",
    "              fuel --> cluster -->  |"
   ]
  },
  {
   "cell_type": "markdown",
   "metadata": {},
   "source": [
    "####   Imports"
   ]
  },
  {
   "cell_type": "code",
   "execution_count": 1,
   "metadata": {},
   "outputs": [],
   "source": [
    "import math\n",
    "\n",
    "import matplotlib.pyplot as plt\n",
    "import pandas as pd\n",
    "\n",
    "from eesrep import Eesrep\n",
    "from eesrep.components.converter import Cluster, Converter\n",
    "from eesrep.components.sink_source import FatalSink, Sink, Source"
   ]
  },
  {
   "cell_type": "markdown",
   "metadata": {},
   "source": [
    "####   Create model"
   ]
  },
  {
   "cell_type": "markdown",
   "metadata": {},
   "source": [
    "Create the Eesrep object and every components.\n",
    "\n",
    "A fictive component **price_cluster_on** is added to force the cluster to turn on only when needed, but is not necessary to model this system."
   ]
  },
  {
   "cell_type": "code",
   "execution_count": 2,
   "metadata": {},
   "outputs": [],
   "source": [
    "model_A = Eesrep(interface=\"docplex\", name=\"model_A\")\n",
    "\n",
    "fuel_A = Source(name=\"fuel\", p_min = 0., p_max = 50, price=.5)\n",
    "\n",
    "fs_df_A = pd.DataFrame({\"time\": list(range(1001)), \n",
    "                            \"value\": [i*100/1000 for i in range(1001)]})\n",
    "\n",
    "load_A = FatalSink(name=\"load\", \n",
    "                        sink_flow = fs_df_A)\n",
    "\n",
    "model_A.add_component(fuel_A)\n",
    "model_A.add_component(load_A)\n",
    "\n",
    "bus_A = model_A.create_bus(bus_name = \"bus\")\n",
    "                            \n",
    "model_A.plug_to_bus(io = fuel_A.power_out, bus = bus_A, is_input = True, factor=1., offset=0.)\n",
    "model_A.plug_to_bus(io = load_A.power_in, bus = bus_A, is_input = False, factor=1., offset=0.)"
   ]
  },
  {
   "cell_type": "code",
   "execution_count": 3,
   "metadata": {},
   "outputs": [],
   "source": [
    "model_B = Eesrep(interface=\"docplex\", name=\"model_B\")\n",
    "\n",
    "fuel_B = Source(name=\"fuel\", p_min = 0., p_max = 200, price=.5)\n",
    "\n",
    "fs_df_B = pd.DataFrame({\"time\": list(range(1001)), \n",
    "                            \"value\": [i*100/1000 for i in range(1001)]})\n",
    "\n",
    "load_B = FatalSink(name=\"load\", \n",
    "                        sink_flow = fs_df_B)\n",
    "\n",
    "model_B.add_component(fuel_B)\n",
    "model_B.add_component(load_B)\n",
    "\n",
    "bus_B = model_B.create_bus(bus_name = \"bus\")\n",
    "                            \n",
    "model_B.plug_to_bus(io = fuel_B.power_out, bus = bus_B, is_input = True, factor=1., offset=0.)\n",
    "model_B.plug_to_bus(io = load_B.power_in, bus = bus_B, is_input = False, factor=1., offset=0.)"
   ]
  },
  {
   "cell_type": "code",
   "execution_count": 4,
   "metadata": {},
   "outputs": [
    {
     "ename": "KeyError",
     "evalue": "'bus'",
     "output_type": "error",
     "traceback": [
      "\u001b[1;31m---------------------------------------------------------------------------\u001b[0m",
      "\u001b[1;31mKeyError\u001b[0m                                  Traceback (most recent call last)",
      "\u001b[1;32m<ipython-input-4-01d8abef8330>\u001b[0m in \u001b[0;36m<module>\u001b[1;34m\u001b[0m\n\u001b[0;32m     10\u001b[0m \u001b[0mmodel\u001b[0m\u001b[1;33m.\u001b[0m\u001b[0madd_component\u001b[0m\u001b[1;33m(\u001b[0m\u001b[0mtransfert_B_A\u001b[0m\u001b[1;33m)\u001b[0m\u001b[1;33m\u001b[0m\u001b[1;33m\u001b[0m\u001b[0m\n\u001b[0;32m     11\u001b[0m \u001b[1;33m\u001b[0m\u001b[0m\n\u001b[1;32m---> 12\u001b[1;33m \u001b[0mmodel\u001b[0m\u001b[1;33m.\u001b[0m\u001b[0mplug_to_bus\u001b[0m\u001b[1;33m(\u001b[0m\u001b[0mtransfert_A_B\u001b[0m\u001b[1;33m.\u001b[0m\u001b[0mpower_in\u001b[0m\u001b[1;33m,\u001b[0m \u001b[0mmodel_A\u001b[0m\u001b[1;33m.\u001b[0m\u001b[0mget_bus_list\u001b[0m\u001b[1;33m(\u001b[0m\u001b[1;33m)\u001b[0m\u001b[1;33m[\u001b[0m\u001b[1;34m\"bus\"\u001b[0m\u001b[1;33m]\u001b[0m\u001b[1;33m,\u001b[0m \u001b[1;32mFalse\u001b[0m\u001b[1;33m,\u001b[0m \u001b[1;36m1.\u001b[0m\u001b[1;33m,\u001b[0m \u001b[1;36m0.\u001b[0m\u001b[1;33m)\u001b[0m\u001b[1;33m\u001b[0m\u001b[1;33m\u001b[0m\u001b[0m\n\u001b[0m\u001b[0;32m     13\u001b[0m \u001b[0mmodel\u001b[0m\u001b[1;33m.\u001b[0m\u001b[0mplug_to_bus\u001b[0m\u001b[1;33m(\u001b[0m\u001b[0mtransfert_B_A\u001b[0m\u001b[1;33m.\u001b[0m\u001b[0mpower_in\u001b[0m\u001b[1;33m,\u001b[0m \u001b[0mmodel_B\u001b[0m\u001b[1;33m.\u001b[0m\u001b[0mget_bus_list\u001b[0m\u001b[1;33m(\u001b[0m\u001b[1;33m)\u001b[0m\u001b[1;33m[\u001b[0m\u001b[1;34m\"bus\"\u001b[0m\u001b[1;33m]\u001b[0m\u001b[1;33m,\u001b[0m \u001b[1;32mFalse\u001b[0m\u001b[1;33m,\u001b[0m \u001b[1;36m1.\u001b[0m\u001b[1;33m,\u001b[0m \u001b[1;36m0.\u001b[0m\u001b[1;33m)\u001b[0m\u001b[1;33m\u001b[0m\u001b[1;33m\u001b[0m\u001b[0m\n\u001b[0;32m     14\u001b[0m \u001b[1;33m\u001b[0m\u001b[0m\n",
      "\u001b[1;32mc:\\users\\tm787802\\pictures\\meme\\eesrep\\eesrep\\main.py\u001b[0m in \u001b[0;36mplug_to_bus\u001b[1;34m(self, io, bus, is_input, factor, offset)\u001b[0m\n\u001b[0;32m    616\u001b[0m             \u001b[0mself\u001b[0m\u001b[1;33m.\u001b[0m\u001b[0m__buses\u001b[0m\u001b[1;33m[\u001b[0m\u001b[0mbus_name\u001b[0m\u001b[1;33m]\u001b[0m\u001b[1;33m.\u001b[0m\u001b[0minputs\u001b[0m\u001b[1;33m.\u001b[0m\u001b[0mappend\u001b[0m\u001b[1;33m(\u001b[0m\u001b[1;33m[\u001b[0m\u001b[0mcomponent_name\u001b[0m\u001b[1;33m,\u001b[0m \u001b[0mio\u001b[0m\u001b[1;33m.\u001b[0m\u001b[0mio_name\u001b[0m\u001b[1;33m,\u001b[0m \u001b[0mfactor\u001b[0m\u001b[1;33m,\u001b[0m \u001b[0moffset\u001b[0m\u001b[1;33m]\u001b[0m\u001b[1;33m)\u001b[0m\u001b[1;33m\u001b[0m\u001b[1;33m\u001b[0m\u001b[0m\n\u001b[0;32m    617\u001b[0m         \u001b[1;32melse\u001b[0m\u001b[1;33m:\u001b[0m\u001b[1;33m\u001b[0m\u001b[1;33m\u001b[0m\u001b[0m\n\u001b[1;32m--> 618\u001b[1;33m             \u001b[0mself\u001b[0m\u001b[1;33m.\u001b[0m\u001b[0m__buses\u001b[0m\u001b[1;33m[\u001b[0m\u001b[0mbus_name\u001b[0m\u001b[1;33m]\u001b[0m\u001b[1;33m.\u001b[0m\u001b[0moutputs\u001b[0m\u001b[1;33m.\u001b[0m\u001b[0mappend\u001b[0m\u001b[1;33m(\u001b[0m\u001b[1;33m[\u001b[0m\u001b[0mcomponent_name\u001b[0m\u001b[1;33m,\u001b[0m \u001b[0mio\u001b[0m\u001b[1;33m.\u001b[0m\u001b[0mio_name\u001b[0m\u001b[1;33m,\u001b[0m \u001b[0mfactor\u001b[0m\u001b[1;33m,\u001b[0m \u001b[0moffset\u001b[0m\u001b[1;33m]\u001b[0m\u001b[1;33m)\u001b[0m\u001b[1;33m\u001b[0m\u001b[1;33m\u001b[0m\u001b[0m\n\u001b[0m\u001b[0;32m    619\u001b[0m \u001b[1;33m\u001b[0m\u001b[0m\n\u001b[0;32m    620\u001b[0m     \u001b[1;32mdef\u001b[0m \u001b[0madd_io_to_objective\u001b[0m\u001b[1;33m(\u001b[0m\u001b[0mself\u001b[0m\u001b[1;33m,\u001b[0m \u001b[0mio\u001b[0m\u001b[1;33m:\u001b[0m\u001b[0mComponentIO\u001b[0m\u001b[1;33m,\u001b[0m \u001b[0mprice\u001b[0m\u001b[1;33m:\u001b[0m\u001b[0mfloat\u001b[0m\u001b[1;33m=\u001b[0m\u001b[1;36m0.\u001b[0m\u001b[1;33m)\u001b[0m\u001b[1;33m:\u001b[0m\u001b[1;33m\u001b[0m\u001b[1;33m\u001b[0m\u001b[0m\n",
      "\u001b[1;31mKeyError\u001b[0m: 'bus'"
     ]
    }
   ],
   "source": [
    "model = Eesrep(interface=\"docplex\")\n",
    "\n",
    "model.add_submodel(model_A)\n",
    "model.add_submodel(model_B)\n",
    "\n",
    "transfert_A_B = Converter(name=\"A_B\", efficiency=1., p_min=0., p_max=None)\n",
    "transfert_B_A = Converter(name=\"B_A\", efficiency=1., p_min=0., p_max=None)\n",
    "\n",
    "model.add_component(transfert_A_B)\n",
    "model.add_component(transfert_B_A)\n",
    "\n",
    "print(model_A.get_bus_list())\n",
    "\n",
    "model.plug_to_bus(transfert_A_B.power_in, model_A.get_bus_list()[\"bus\"], False, 1., 0.)\n",
    "model.plug_to_bus(transfert_B_A.power_in, model_B.get_bus_list()[\"bus\"], False, 1., 0.)\n",
    "\n",
    "model.plug_to_bus(transfert_A_B.power_out, model_A.get_bus_list()[\"bus\"], True, 1., 0.)\n",
    "model.plug_to_bus(transfert_B_A.power_out, model_B.get_bus_list()[\"bus\"], True, 1., 0.)"
   ]
  },
  {
   "cell_type": "markdown",
   "metadata": {},
   "source": [
    "####   Set up simulation"
   ]
  },
  {
   "cell_type": "markdown",
   "metadata": {},
   "source": [
    "In this tutorial, we ask EESREP to split the 1000 time steps resolution in 10 * 100 time steps. Each resolution will start 100 steps after the previous, making no overlap between each resolution.\n",
    "\n",
    "Each resolution is faster, but more are required. A good balance needs to be found between the time range parameters to get a proper result at a good computation time.\n",
    "\n",
    "    |-- 100 steps --|  Rolling horizon 1\n",
    "                    |-- 100 steps --|  Rolling horizon 2\n",
    "                                    |-- 100 steps --|  Rolling horizon 3\n"
   ]
  },
  {
   "cell_type": "code",
   "execution_count": null,
   "metadata": {},
   "outputs": [],
   "source": [
    "model.define_time_range(time_step = 1., \n",
    "                        time_shift = 100, \n",
    "                        future_size = 100, \n",
    "                        horizon_count = 10)"
   ]
  },
  {
   "cell_type": "markdown",
   "metadata": {},
   "source": [
    "####   Solve and get results"
   ]
  },
  {
   "cell_type": "code",
   "execution_count": null,
   "metadata": {},
   "outputs": [],
   "source": [
    "model.solve()\n",
    "results = model.get_results(as_dataframe=False)"
   ]
  },
  {
   "cell_type": "code",
   "execution_count": null,
   "metadata": {},
   "outputs": [],
   "source": [
    "print(results.keys())\n",
    "print(results[\"model_A_fuel\"].keys())"
   ]
  },
  {
   "cell_type": "markdown",
   "metadata": {},
   "source": [
    "The cluster provides all of the requested power as it is cheaper than the other source.\n",
    "\n",
    "We can see that the cluster turns on machines incrementally as the requested load increases."
   ]
  },
  {
   "cell_type": "code",
   "execution_count": null,
   "metadata": {},
   "outputs": [],
   "source": [
    "plt.figure(figsize=(10,5))\n",
    "plt.subplot(121)\n",
    "plt.plot(results[\"model_A_fuel\"][\"power_out\"], label = \"model_A_fuel\", color=\"r\")\n",
    "plt.plot(results[\"model_A_load\"][\"power_in\"], label = \"Load\", linestyle = \"dashed\", color=\"yellow\")\n",
    "plt.legend()\n",
    "plt.subplot(122)\n",
    "plt.plot(results[\"model_B_fuel\"][\"power_out\"], label = \"model_B_fuel\", color=\"g\")\n",
    "plt.plot(results[\"model_B_load\"][\"power_in\"], label = \"Load\", linestyle = \"dashed\", color=\"yellow\")\n",
    "plt.legend()\n",
    "plt.show()"
   ]
  }
 ],
 "metadata": {
  "kernelspec": {
   "display_name": "Python 3.7.9 64-bit",
   "language": "python",
   "name": "python3"
  },
  "language_info": {
   "codemirror_mode": {
    "name": "ipython",
    "version": 3
   },
   "file_extension": ".py",
   "mimetype": "text/x-python",
   "name": "python",
   "nbconvert_exporter": "python",
   "pygments_lexer": "ipython3",
   "version": "3.7.9"
  },
  "orig_nbformat": 4,
  "vscode": {
   "interpreter": {
    "hash": "d49c3f6d6dd49f9272b571d9fad348ab55b8c6c3f691520d74ed0af1f69c3dd8"
   }
  }
 },
 "nbformat": 4,
 "nbformat_minor": 2
}
