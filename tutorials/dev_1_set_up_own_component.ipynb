{
 "cells": [
  {
   "cell_type": "markdown",
   "metadata": {},
   "source": [
    "## Tutorial development 1 : create a simple component\n",
    "\n",
    "In this document, we develop a new EESREP component. This component will make the cogeneration of electricity and heat from a fuel input.\n",
    "\n",
    "This tutorial is adapted to users who want to develop customized components and not simply use the built-in components. A full understanding of the user tutorials is necessary before starting development."
   ]
  },
  {
   "cell_type": "markdown",
   "metadata": {},
   "source": [
    "####   Imports"
   ]
  },
  {
   "cell_type": "code",
   "execution_count": 1,
   "metadata": {},
   "outputs": [],
   "source": [
    "import math\n",
    "\n",
    "import matplotlib.pyplot as plt\n",
    "import pandas as pd\n",
    "\n",
    "from eesrep import Eesrep\n",
    "from eesrep.components.generic_component import GenericComponent\n",
    "from eesrep.components.sink_source import FatalSink\n",
    "from eesrep.eesrep_enum import TimeSerieType\n",
    "from eesrep.eesrep_io import ComponentIO\n",
    "from eesrep.solver_interface.generic_interface import GenericInterface"
   ]
  },
  {
   "cell_type": "markdown",
   "metadata": {},
   "source": [
    "#### Create the component definition"
   ]
  },
  {
   "cell_type": "markdown",
   "metadata": {},
   "source": [
    "Every EESREP component must inherit from the GenericComponent class, and define the three following functions:\n",
    "\n",
    "-   \\_\\_init\\_\\_ : Instanciates the object, and stores its parameters and time series.\n",
    "-   io_from_parameters : Lists the component Input/Outputs for a given set of parameters.\n",
    "-   build_model : creates the model equations at a given rolling horizon\n",
    "\n",
    "For the tutorial, the Cogeneration class is defined in several jupyter cells."
   ]
  },
  {
   "cell_type": "markdown",
   "metadata": {},
   "source": [
    "The first function defined here is **\\_\\_init\\_\\_**.\n",
    "\n",
    "The function creates the object taking both the parameters and the time series for the whole simulation. The parameters have to be set as class attributes, and the time series to be stored in a dictionnary attribute called time_series. An exemple is provided in the following cell.\n",
    "\n",
    "This component will have one input and two outputs. The model will be :\n",
    "\n",
    "    electricity(t) = fuel(t) * efficiency_elec\n",
    "    heat(t) = fuel(t) * efficiency_heat\n",
    "\n",
    "The component will have a cost based on the input value.\n",
    "\n",
    "It is important to note here that the name of the component must be requested in by the \\_\\_init\\_\\_ function, and has to be stored in self.name.\n",
    "\n",
    "The input/output of the component are also defined here by creating a varibale of the same name (self.io_name callable with component.io_name). These variables will all be a ComponentIO object, it takes 4 arguments:\n",
    "\n",
    "- component_name : always put self.name\n",
    "- io_name : use the same name as the variable\n",
    "- type : is the variable intensive or extensive, this determines wheter the variable is averaged or integrated within a time step\n",
    "- continuity : will the history of the variable be given during the component definition (see later)"
   ]
  },
  {
   "cell_type": "code",
   "execution_count": 2,
   "metadata": {},
   "outputs": [],
   "source": [
    "class Cogeneration(GenericComponent):\n",
    "    \"\"\"EESREP cogeneration model :\n",
    "        The cogeneration output equals input1 * efficiency + input2 * ratio * efficiency\"\"\"\n",
    "\n",
    "    def __init__(self, \n",
    "                    name:str,\n",
    "                    efficiency_elec:float,\n",
    "                    efficiency_heat:float,\n",
    "                    p_max:float,\n",
    "                    opex:float,\n",
    "                    some_ts:pd.DataFrame = pd.DataFrame()):\n",
    "        \n",
    "        self.name = name\n",
    "        self.efficiency_elec = efficiency_elec\n",
    "        self.efficiency_heat = efficiency_heat\n",
    "        self.p_max = p_max\n",
    "        self.opex = opex\n",
    "\n",
    "        #   Necessary object, instanciate empty if not used\n",
    "        self.time_series = {\n",
    "            # \"some_time_serie\":{\n",
    "            #     \"type\":TimeSerieType.INTENSIVE,\n",
    "            #     \"value\":some_ts\n",
    "            # } \n",
    "        }\n",
    "\n",
    "        self.electricity = ComponentIO(self.name, \"electricity\", TimeSerieType.INTENSIVE, False)\n",
    "        self.heat = ComponentIO(self.name, \"heat\", TimeSerieType.INTENSIVE, False)\n",
    "        self.fuel = ComponentIO(self.name, \"fuel\", TimeSerieType.INTENSIVE, False)\n",
    "        "
   ]
  },
  {
   "cell_type": "markdown",
   "metadata": {},
   "source": [
    "In the io_from_parameters function, we will provide a dictionnary that lists the ComponentIO objects with a key of the same name."
   ]
  },
  {
   "cell_type": "code",
   "execution_count": 3,
   "metadata": {},
   "outputs": [],
   "source": [
    "\n",
    "class Cogeneration(Cogeneration):\n",
    "    \"\"\"EESREP cogeneration model :\n",
    "        The cogeneration outputs equal \n",
    "        electricity = fuel * efficiency_elec\n",
    "        heat = fuel * efficiency_heat\n",
    "    \"\"\"\n",
    "\n",
    "    def io_from_parameters(self) -> dict:\n",
    "        \"\"\"Lists the component Input/Output.\n",
    "        \"\"\"\n",
    "        return {\n",
    "                    \"electricity\": self.electricity,\n",
    "                    \"heat\": self.heat,\n",
    "                    \"fuel\": self.fuel\n",
    "                }\n"
   ]
  },
  {
   "cell_type": "markdown",
   "metadata": {},
   "source": [
    "The building of the model is done in three steps:\n",
    "\n",
    "-   Variables creation : The variables are requested to the model inteface. You can either request one or several variables at a time, and request either continuous or discrete variables (float or int).\n",
    "\n",
    "-   Constraints declaration : At each time step of the horizon, the variables are linked to each others, or to float values, using equality/lower_than/greater_than constraints. The create_xxx_constraints functions expect, as first argument, a table listing all variables in the equation with their sign which will be summed as the left hand side of the equation, and a value as second argument, which will be the right hand side of the equation.\n",
    "\n",
    "-   Objective definition : The objective is set using the declared variables. A sum_variables function in the model_interface is available for summing more than 2 objects."
   ]
  },
  {
   "cell_type": "code",
   "execution_count": 4,
   "metadata": {},
   "outputs": [],
   "source": [
    "\n",
    "class Cogeneration(Cogeneration):\n",
    "    \"\"\"EESREP cogeneration model :\n",
    "        electricity = fuel * efficiency_elec\n",
    "        heat = fuel * efficiency_heat\n",
    "    \"\"\"\n",
    "\n",
    "    def build_model(self,\n",
    "        component_name:str,\n",
    "        time_steps:list,\n",
    "        time_series:pd.DataFrame,\n",
    "        history:pd.DataFrame,\n",
    "        model_interface:GenericInterface,\n",
    "        future:pd.DataFrame = None):\n",
    "        \"\"\"Builds the model at the current horizon.\n",
    "\n",
    "        Parameters\n",
    "        ----------\n",
    "        component_name : str\n",
    "            Component name to index the MILP variables\n",
    "        time_steps : list\n",
    "            List of the time steps length \n",
    "        time_series : pd.DataFrame\n",
    "            Dataframe containing the time series values at the current horizon time steps.\n",
    "        history : pd.DataFrame\n",
    "            Dataframe with the variables of previous iterations if \"continuity\" is at true.\n",
    "        model_interface : GenericInterface\n",
    "            Solver interface used to provide the variables\n",
    "\n",
    "        \"\"\"\n",
    "        variables = {}\n",
    "\n",
    "        variables[\"fuel\"] = model_interface.get_new_continuous_variable_list(component_name+\"_fuel_\", len(time_steps), 0, self.p_max)\n",
    "        variables[\"electricity\"] = model_interface.get_new_continuous_variable_list(component_name+\"_electricity_\", len(time_steps), 0, None)\n",
    "        variables[\"heat\"] = model_interface.get_new_continuous_variable_list(component_name+\"_heat_\", len(time_steps), 0, None)\n",
    "\n",
    "        for i in range(len(time_steps)):\n",
    "            model_interface.add_equality(left_term = model_interface.sum_variables([\n",
    "                                                                variables[\"electricity\"][i],\n",
    "                                                                -variables[\"fuel\"][i]*self.efficiency_elec\n",
    "                                                            ]), \n",
    "                                         right_term = 0)\n",
    "                                                            \n",
    "            model_interface.add_equality(model_interface.sum_variables([\n",
    "                                                                variables[\"heat\"][i],\n",
    "                                                                -variables[\"fuel\"][i]*self.efficiency_heat\n",
    "                                                            ]), \n",
    "                                                            0)\n",
    "\n",
    "        objective = model_interface.sum_variables([val * self.opex for val in variables[\"fuel\"]])\n",
    "        \n",
    "        return variables, objective\n"
   ]
  },
  {
   "cell_type": "markdown",
   "metadata": {},
   "source": [
    "####   Create model"
   ]
  },
  {
   "cell_type": "markdown",
   "metadata": {},
   "source": [
    "Create the Eesrep object and declaration of the Cogeneration component type."
   ]
  },
  {
   "cell_type": "code",
   "execution_count": 5,
   "metadata": {},
   "outputs": [],
   "source": [
    "model = Eesrep(interface=\"docplex\")"
   ]
  },
  {
   "cell_type": "markdown",
   "metadata": {},
   "source": [
    "Create the bus and link the components together.\n",
    "\n",
    "Similarly to the add_link function, the plug_to_bus function takes few arguments:\n",
    "\n",
    "-   name of the component to plug to the bus;\n",
    "-   input/output of the component to plug to the bus;\n",
    "-   name of the bus;\n",
    "-   if we are plugging an input (boolean);\n",
    "-   multiplication factor;\n",
    "-   offset."
   ]
  },
  {
   "cell_type": "code",
   "execution_count": 6,
   "metadata": {},
   "outputs": [],
   "source": [
    "cogeneration = Cogeneration(\"cogeneration\",\n",
    "                                    efficiency_elec=.9,\n",
    "                                    efficiency_heat=.9,\n",
    "                                    p_max=1000.,\n",
    "                                    opex=1.\n",
    "                                )\n",
    "model.add_component(cogeneration)\n",
    "\n",
    "load = FatalSink(\"load\", pd.DataFrame({\"time\": list(range(101)), \"value\": [i for i in range(101)]}))\n",
    "model.add_component(load)\n",
    "\n",
    "model.add_link(io_1 = cogeneration.heat, \n",
    "                io_2 = load.power_in, \n",
    "                factor = 1., \n",
    "                offset = 0.)"
   ]
  },
  {
   "cell_type": "markdown",
   "metadata": {},
   "source": [
    "####   Set up simulation"
   ]
  },
  {
   "cell_type": "markdown",
   "metadata": {},
   "source": [
    "In this tutorial, we ask EESREP to split the 1000 time steps resolution in 10 * 100 time steps. Each resolution will start 100 steps after the previous, making no overlap between each resolution.\n",
    "\n",
    "Each resolution is faster, but more are required. A good balance needs to be found between the time range parameters to get a proper result at a good computation time."
   ]
  },
  {
   "cell_type": "code",
   "execution_count": 7,
   "metadata": {},
   "outputs": [],
   "source": [
    "model.define_time_range(time_step = 1., \n",
    "                        time_shift = 1, \n",
    "                        future_size = 100, \n",
    "                        horizon_count = 1)"
   ]
  },
  {
   "cell_type": "markdown",
   "metadata": {},
   "source": [
    "####   Solve and get results"
   ]
  },
  {
   "cell_type": "code",
   "execution_count": 8,
   "metadata": {},
   "outputs": [
    {
     "name": "stdout",
     "output_type": "stream",
     "text": [
      "Running first time step\n"
     ]
    }
   ],
   "source": [
    "model.solve()\n",
    "\n",
    "results = model.get_results(as_dataframe=True)"
   ]
  },
  {
   "cell_type": "markdown",
   "metadata": {},
   "source": [
    "The following plot displays that the component's behavior indeed matches the provided equations"
   ]
  },
  {
   "cell_type": "code",
   "execution_count": 9,
   "metadata": {},
   "outputs": [
    {
     "data": {
      "image/png": "[encoded data removed]",
      "text/plain": [
       "<Figure size 432x288 with 1 Axes>"
      ]
     },
     "metadata": {
      "needs_background": "light"
     },
     "output_type": "display_data"
    }
   ],
   "source": [
    "plt.plot(results[\"cogeneration_heat\"], label = \"Heat\")\n",
    "plt.plot(results[\"cogeneration_electricity\"], label = \"Electricity\", linestyle = \"dashed\")\n",
    "plt.plot(results[\"cogeneration_fuel\"], label = \"Fuel\")\n",
    "plt.legend()\n",
    "plt.show()"
   ]
  }
 ],
 "metadata": {
  "kernelspec": {
   "display_name": "Python 3.8.6 64-bit",
   "language": "python",
   "name": "python3"
  },
  "language_info": {
   "codemirror_mode": {
    "name": "ipython",
    "version": 3
   },
   "file_extension": ".py",
   "mimetype": "text/x-python",
   "name": "python",
   "nbconvert_exporter": "python",
   "pygments_lexer": "ipython3",
   "version": "3.7.9"
  },
  "orig_nbformat": 4,
  "vscode": {
   "interpreter": {
    "hash": "607c9d130faaa095f31b442aeb6137952055d42a4967c60029f806fc28f5e80d"
   }
  }
 },
 "nbformat": 4,
 "nbformat_minor": 2
}
