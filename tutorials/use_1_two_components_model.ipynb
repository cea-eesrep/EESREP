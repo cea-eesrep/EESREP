{
 "cells": [
  {
   "cell_type": "markdown",
   "metadata": {},
   "source": [
    "## User tutorial 1 : simple two components model\n",
    "\n",
    "This tutorial show how to set-up and solve a very simple model using EESREP.\n",
    "\n",
    "This model takes two components:\n",
    "\n",
    "-   source : provides the requested energy;\n",
    "-   load : requests a pre-defined amount of energy.\n",
    "\n",
    "The structure of the model can be illustrated as follow:\n",
    "\n",
    "    source --> load"
   ]
  },
  {
   "cell_type": "markdown",
   "metadata": {},
   "source": [
    "####   Imports"
   ]
  },
  {
   "cell_type": "code",
   "execution_count": 1,
   "metadata": {},
   "outputs": [],
   "source": [
    "import math\n",
    "\n",
    "import pandas as pd\n",
    "\n",
    "from eesrep import Eesrep"
   ]
  },
  {
   "cell_type": "markdown",
   "metadata": {},
   "source": [
    "####   Create model"
   ]
  },
  {
   "cell_type": "markdown",
   "metadata": {},
   "source": [
    "A EESREP object is created providing the interface to use. This interface will be used to select which python module is used to set-up the MILP model.\n",
    "\n",
    "As not provided, the optimisation function here will be minimised.\n",
    "\n",
    "The Eesrep object will store the structure of the system (components and links), and will convert it in a MILP model to compute its optimal state."
   ]
  },
  {
   "cell_type": "code",
   "execution_count": 2,
   "metadata": {},
   "outputs": [],
   "source": [
    "model = Eesrep(interface=\"docplex\")"
   ]
  },
  {
   "cell_type": "markdown",
   "metadata": {},
   "source": [
    "To set up the model, we need to create its components.\n",
    "\n",
    "A component is created using its constructor. The built-in components can be found in eesrep.components.*\n",
    "\n",
    "In this tutorial we will use the following components:\n",
    "\n",
    "-   Source : provides the energy requested by the system\n",
    "-   FatalSink : Requests a given amount of energy defined in a time serie\n",
    "\n",
    "After creation, the component can be provided to the Eesrep model.\n",
    "\n",
    "The options names are writen in this file for better readability, but are not necessary."
   ]
  },
  {
   "cell_type": "code",
   "execution_count": 3,
   "metadata": {},
   "outputs": [],
   "source": [
    "from eesrep.components.sink_source import FatalSink, Source\n",
    "\n",
    "source = Source(name = \"source\", p_min=0., p_max=100., price=0.)\n",
    "model.add_component(source)"
   ]
  },
  {
   "cell_type": "markdown",
   "metadata": {},
   "source": [
    "When a time serie is provided, it is defined using a pandas dataframe containing two columns: **time** and **value**. The time column does not need to be the same for each component, an interpolation of these data will be done before solving."
   ]
  },
  {
   "cell_type": "code",
   "execution_count": 4,
   "metadata": {},
   "outputs": [],
   "source": [
    "fs_df = pd.DataFrame({\"time\": list(range(1001)), \"value\": [5 + 2* math.sin(i/30) for i in range(1001)]})\n",
    "\n",
    "load = FatalSink(name = \"load\",\n",
    "                    sink_flow=fs_df)\n",
    "\n",
    "model.add_component(load)"
   ]
  },
  {
   "cell_type": "markdown",
   "metadata": {},
   "source": [
    "The created components now need to see their input/output linked to each others. It will create an equality constraint between them.\n",
    "\n",
    "A multiplication coefficient/offset can be added using the two last parameters. Here we would have:\n",
    "\n",
    "    power_out * 1. + 0. = power_in"
   ]
  },
  {
   "cell_type": "code",
   "execution_count": 5,
   "metadata": {},
   "outputs": [],
   "source": [
    "model.add_link(io_1=source.power_out, \n",
    "                io_2=load.power_in, \n",
    "                factor=1., \n",
    "                offset=0.)"
   ]
  },
  {
   "cell_type": "markdown",
   "metadata": {},
   "source": [
    "####   Set up simulation: rolling horizons"
   ]
  },
  {
   "cell_type": "markdown",
   "metadata": {},
   "source": [
    "An EESREP system optimisation on a global time horizon can be separated in several rolling horizons with a constant time delay between two, with or without overlapping between two consecutive horizons.\n",
    "\n",
    "The rolling horizon is defined by four parameters:\n",
    "\n",
    "-   time_step (float) : length of a time step, make sure its value is consistent with the one provided in the time series.\n",
    "-   time_shift (int) : time steps skipped between two horisons solved.\n",
    "-   future_size (int) : number of time steps solved in each MILP resolution.\n",
    "-   horizon_count (int) : number of rolling horizon computed.\n",
    "\n",
    "The following illustrates a resolution using 3 rolling horizons (horizon_count = 3) of 9 steps each (future_size = 9), and a time shift of two steps between two rolling horizons (time_shift = 2).\n",
    "\n",
    "        |---|---|---|---|---|---|---|---|---| Rolling horizon 1\n",
    "                |---|---|---|---|---|---|---|---|---| Rolling horizon 2\n",
    "                        |---|---|---|---|---|---|---|---|---| Rolling horizon 3\n",
    "\n",
    "In this example, he two first steps of the first rolling horizon will be used as history for the second horizon, and the two first steps of both two first rolling horizons will be used as history for rolling horizon 3.\n",
    "\n",
    "Before solving your first case, it is required to define its time range parameters."
   ]
  },
  {
   "cell_type": "code",
   "execution_count": 6,
   "metadata": {},
   "outputs": [],
   "source": [
    "model.define_time_range(time_step = 1., \n",
    "                        time_shift = 1, \n",
    "                        future_size = 1000, \n",
    "                        horizon_count = 1)"
   ]
  },
  {
   "cell_type": "markdown",
   "metadata": {},
   "source": [
    "####   Solve and get results"
   ]
  },
  {
   "cell_type": "markdown",
   "metadata": {},
   "source": [
    "The model solve function will solve each rolling horizon requested in the *define_time_range*."
   ]
  },
  {
   "cell_type": "code",
   "execution_count": 7,
   "metadata": {},
   "outputs": [
    {
     "name": "stdout",
     "output_type": "stream",
     "text": [
      "Running first time step\n"
     ]
    }
   ],
   "source": [
    "model.solve()"
   ]
  },
  {
   "cell_type": "markdown",
   "metadata": {},
   "source": [
    "The results of the solved rolling horison can be accessed through the *get_results* function. Two formats are available:\n",
    "\n",
    "-   **Pandas dataframe** : every component input/output are provided in a single dataframe, the name of the componnent and the I/O name are separated with an underscore;\n",
    "-   **Dictionnary** : a dictionnary, with every component name as keys, containing a dictionnary of every input/output of the given component. "
   ]
  },
  {
   "cell_type": "code",
   "execution_count": 8,
   "metadata": {},
   "outputs": [
    {
     "name": "stdout",
     "output_type": "stream",
     "text": [
      "     source_power_out  load_power_in    time\n",
      "0            5.066654       5.066654     1.0\n",
      "1            5.133235       5.133235     2.0\n",
      "2            5.199667       5.199667     3.0\n",
      "3            5.265877       5.265877     4.0\n",
      "4            5.331792       5.331792     5.0\n",
      "..                ...            ...     ...\n",
      "995          6.954685       6.954685   996.0\n",
      "996          6.939491       6.939491   997.0\n",
      "997          6.922142       6.922142   998.0\n",
      "998          6.902657       6.902657   999.0\n",
      "999          6.881059       6.881059  1000.0\n",
      "\n",
      "[1000 rows x 3 columns]\n"
     ]
    }
   ],
   "source": [
    "results = model.get_results(as_dataframe=True)\n",
    "print(results)"
   ]
  }
 ],
 "metadata": {
  "kernelspec": {
   "display_name": "Python 3.7.9 64-bit",
   "language": "python",
   "name": "python3"
  },
  "language_info": {
   "codemirror_mode": {
    "name": "ipython",
    "version": 3
   },
   "file_extension": ".py",
   "mimetype": "text/x-python",
   "name": "python",
   "nbconvert_exporter": "python",
   "pygments_lexer": "ipython3",
   "version": "3.7.9"
  },
  "orig_nbformat": 4,
  "vscode": {
   "interpreter": {
    "hash": "d49c3f6d6dd49f9272b571d9fad348ab55b8c6c3f691520d74ed0af1f69c3dd8"
   }
  }
 },
 "nbformat": 4,
 "nbformat_minor": 2
}
