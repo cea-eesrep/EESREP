{
 "cells": [
  {
   "cell_type": "markdown",
   "metadata": {},
   "source": [
    "## Tips & tricks 1 : unsolvable"
   ]
  },
  {
   "cell_type": "markdown",
   "metadata": {},
   "source": [
    "In this model, we will show how to help making a problem solvable."
   ]
  },
  {
   "cell_type": "markdown",
   "metadata": {},
   "source": [
    "####  Base model"
   ]
  },
  {
   "cell_type": "markdown",
   "metadata": {},
   "source": [
    "In this model, we have a power unit trying to supply a load going either below the p_min, and above the p_max. The problem therefore cannot be solved."
   ]
  },
  {
   "cell_type": "code",
   "execution_count": 1,
   "metadata": {},
   "outputs": [],
   "source": [
    "import math\n",
    "\n",
    "import matplotlib.pyplot as plt\n",
    "import pandas as pd\n",
    "\n",
    "from eesrep import Eesrep\n",
    "from eesrep.components.sink_source import FatalSink, FatalSource, Sink, Source\n",
    "from eesrep.components.storage import GenericStorage\n",
    "from eesrep.eesrep_exceptions import UnsolvableProblemException"
   ]
  },
  {
   "cell_type": "code",
   "execution_count": 2,
   "metadata": {},
   "outputs": [
    {
     "name": "stdout",
     "output_type": "stream",
     "text": [
      "Running first time step\n",
      "The problem is not solvable!\n"
     ]
    }
   ],
   "source": [
    "model = Eesrep(interface=\"docplex\")\n",
    "\n",
    "load_df = pd.DataFrame({\"time\": list(range(50)), \n",
    "                            \"value\": [0 if i < 20 else 300 for i in range(50)]})\n",
    "\n",
    "load = FatalSink(name=\"load\", \n",
    "                        sink_flow = load_df)\n",
    "\n",
    "power_unit = Source(name=\"power_unit\", \n",
    "                        p_min = 50., p_max=150., price = 0.)\n",
    "\n",
    "model.add_component(power_unit)\n",
    "model.add_component(load)\n",
    "\n",
    "model.create_bus(bus_type = \"bus\", \n",
    "                    options = {\n",
    "                                \"name\":\"bus_1\"\n",
    "                            })\n",
    "                        \n",
    "model.plug_to_bus(io = power_unit.power_out, bus_name = \"bus_1\", is_input = True, factor=1., offset=0.)\n",
    "model.plug_to_bus(io = load.power_in, bus_name = \"bus_1\", is_input = False, factor=1., offset=0.)\n",
    "\n",
    "model.define_time_range(time_step = 1., \n",
    "                        time_shift = 1, \n",
    "                        future_size = 50, \n",
    "                        horizon_count = 1)\n",
    "try:\n",
    "    model.solve()\n",
    "except UnsolvableProblemException:\n",
    "    print(\"The problem is not solvable!\")"
   ]
  },
  {
   "cell_type": "markdown",
   "metadata": {},
   "source": [
    "####  Tweaked model"
   ]
  },
  {
   "cell_type": "markdown",
   "metadata": {},
   "source": [
    "We can add two components to the model:\n",
    "\n",
    "-   Spilled : a Sink component that will take out the excess of power;\n",
    "-   Unsupplied : a Source component that will supply the missing energy to close the system.\n",
    "\n",
    "Both component operate at a very high price per energy unit, compared to other producion means in the system, so they will be called last. Adding these components to complex buses can help considerably solve the system, even though it would be solvable without them. "
   ]
  },
  {
   "cell_type": "code",
   "execution_count": 3,
   "metadata": {},
   "outputs": [
    {
     "name": "stdout",
     "output_type": "stream",
     "text": [
      "Running first time step\n"
     ]
    }
   ],
   "source": [
    "model = Eesrep(interface=\"docplex\")\n",
    "\n",
    "load_df = pd.DataFrame({\"time\": list(range(50)), \n",
    "                            \"value\": [0 if i < 20 else 300 for i in range(50)]})\n",
    "\n",
    "load = FatalSink(name=\"load\", \n",
    "                        sink_flow = load_df)\n",
    "\n",
    "power_unit = Source(name=\"power_unit\", \n",
    "                        p_min = 50., p_max=150., price = 0.)\n",
    "                        \n",
    "spilled = Sink(name=\"spilled\", p_min = 0., p_max = None, price=100000.)\n",
    "unsupplied = Source(name=\"unsupplied\", p_min = 0., p_max = None, price=100000.)\n",
    "\n",
    "model.add_component(power_unit)\n",
    "model.add_component(load)\n",
    "model.add_component(spilled)\n",
    "model.add_component(unsupplied)\n",
    "\n",
    "model.create_bus(bus_type = \"bus\", \n",
    "                    options = {\n",
    "                                \"name\":\"bus_1\"\n",
    "                            })\n",
    "                        \n",
    "model.plug_to_bus(io = power_unit.power_out, bus_name = \"bus_1\", is_input = True, factor=1., offset=0.)\n",
    "model.plug_to_bus(io = load.power_in, bus_name = \"bus_1\", is_input = False, factor=1., offset=0.)\n",
    "\n",
    "model.plug_to_bus(io = spilled.power_in, bus_name = \"bus_1\", is_input = False, factor=1., offset=0.)\n",
    "model.plug_to_bus(io = unsupplied.power_out, bus_name = \"bus_1\", is_input = True, factor=1., offset=0.)\n",
    "\n",
    "model.define_time_range(time_step = 1., \n",
    "                        time_shift = 1, \n",
    "                        future_size = 50, \n",
    "                        horizon_count = 1)\n",
    "                        \n",
    "model.solve()"
   ]
  },
  {
   "cell_type": "markdown",
   "metadata": {},
   "source": [
    "We can see below that the expected behavior is now respected, with a negligible change of total price."
   ]
  },
  {
   "cell_type": "code",
   "execution_count": 4,
   "metadata": {},
   "outputs": [
    {
     "data": {
      "image/png": "[encoded data removed]",
      "text/plain": [
       "<Figure size 720x360 with 2 Axes>"
      ]
     },
     "metadata": {
      "needs_background": "light"
     },
     "output_type": "display_data"
    }
   ],
   "source": [
    "results = model.get_results(as_dataframe=False)\n",
    "\n",
    "plt.figure(figsize=(10,5))\n",
    "plt.subplot(121)\n",
    "plt.plot(results[\"power_unit\"][\"power_out\"], label = \"Source power out\", color=\"g\")\n",
    "plt.plot(results[\"load\"][\"power_in\"], label = \"Load\", linestyle = \"dashed\", color=\"blue\")\n",
    "plt.legend()\n",
    "plt.subplot(122)\n",
    "plt.plot(results[\"spilled\"][\"power_in\"], label = \"Spilled energy\")\n",
    "plt.plot(results[\"unsupplied\"][\"power_out\"], label = \"Unsupplied energy\")\n",
    "plt.legend()\n",
    "plt.show()"
   ]
  }
 ],
 "metadata": {
  "kernelspec": {
   "display_name": "Python 3.7.9 64-bit",
   "language": "python",
   "name": "python3"
  },
  "language_info": {
   "codemirror_mode": {
    "name": "ipython",
    "version": 3
   },
   "file_extension": ".py",
   "mimetype": "text/x-python",
   "name": "python",
   "nbconvert_exporter": "python",
   "pygments_lexer": "ipython3",
   "version": "3.7.9"
  },
  "orig_nbformat": 4,
  "vscode": {
   "interpreter": {
    "hash": "d49c3f6d6dd49f9272b571d9fad348ab55b8c6c3f691520d74ed0af1f69c3dd8"
   }
  }
 },
 "nbformat": 4,
 "nbformat_minor": 2
}
