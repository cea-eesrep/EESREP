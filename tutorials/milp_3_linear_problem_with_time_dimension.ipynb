{
 "cells": [
  {
   "cell_type": "markdown",
   "metadata": {},
   "source": [
    "## MILP tutorial 3 : add a time dimension\n",
    "\n",
    "This tutorial requires a full understanding of the previous tutorials of the serie\n",
    "\n",
    "In this tutorial, we add a time dimension to our problems, solving not only one value problem but n at the same time. "
   ]
  },
  {
   "cell_type": "markdown",
   "metadata": {},
   "source": [
    "####   Linear problem with a time dimension\n",
    "\n",
    "We reproduce here the same problem as in tutorial 1: a minimalistic energy mix problem where we have two production means that can be used in order to answer to a energy load. In this tutorial however, the load is variable with time. The problem properties at each time step are the following:\n",
    "\n",
    "-   20 time steps\n",
    "-   0 MW <= Load(t) <= 20 MW\n",
    "-   Prod1 :\n",
    "    - maximum power : 15MW\n",
    "    - price : 1€ / MW\n",
    "-   Prod2 :\n",
    "    - maximum power : 15MW\n",
    "    - price : 5€ / MW\n",
    "\n",
    "Intuitively, the Prod1 mean is expected to provide the load below 15MW, and the Prod2 is expected to supply the remaining load."
   ]
  },
  {
   "cell_type": "code",
   "execution_count": 1,
   "metadata": {},
   "outputs": [],
   "source": [
    "# Import the Docplex Model object that manages the problem and its resolution\n",
    "import math\n",
    "import matplotlib.pyplot as plt\n",
    "from docplex.mp.model import Model\n",
    "\n",
    "model = Model()"
   ]
  },
  {
   "cell_type": "markdown",
   "metadata": {},
   "source": [
    "The docplex module has a function to get several variables at a time, contained in a list. We could instead loop on the continuous_var fonction to get the same result. In our case we request 20 variables each (one per time step)."
   ]
  },
  {
   "cell_type": "code",
   "execution_count": 2,
   "metadata": {},
   "outputs": [
    {
     "name": "stdout",
     "output_type": "stream",
     "text": [
      "[docplex.mp.Var(type=C,name='production_1_0',ub=15), docplex.mp.Var(type=C,name='production_1_1',ub=15), docplex.mp.Var(type=C,name='production_1_2',ub=15), docplex.mp.Var(type=C,name='production_1_3',ub=15), docplex.mp.Var(type=C,name='production_1_4',ub=15), docplex.mp.Var(type=C,name='production_1_5',ub=15), docplex.mp.Var(type=C,name='production_1_6',ub=15), docplex.mp.Var(type=C,name='production_1_7',ub=15), docplex.mp.Var(type=C,name='production_1_8',ub=15), docplex.mp.Var(type=C,name='production_1_9',ub=15), docplex.mp.Var(type=C,name='production_1_10',ub=15), docplex.mp.Var(type=C,name='production_1_11',ub=15), docplex.mp.Var(type=C,name='production_1_12',ub=15), docplex.mp.Var(type=C,name='production_1_13',ub=15), docplex.mp.Var(type=C,name='production_1_14',ub=15), docplex.mp.Var(type=C,name='production_1_15',ub=15), docplex.mp.Var(type=C,name='production_1_16',ub=15), docplex.mp.Var(type=C,name='production_1_17',ub=15), docplex.mp.Var(type=C,name='production_1_18',ub=15), docplex.mp.Var(type=C,name='production_1_19',ub=15)]\n"
     ]
    }
   ],
   "source": [
    "production_1 = model.continuous_var_list(20, lb=0, ub=15, name=\"production_1\")\n",
    "production_2 = model.continuous_var_list(20, lb=0, ub=15, name=\"production_2\")\n",
    "\n",
    "print(production_1)"
   ]
  },
  {
   "cell_type": "markdown",
   "metadata": {},
   "source": [
    "The load is here set to a sinusoidal value with time."
   ]
  },
  {
   "cell_type": "code",
   "execution_count": 3,
   "metadata": {},
   "outputs": [],
   "source": [
    "load = [15+5*math.sin(i/2) for i in range(20)]"
   ]
  },
  {
   "cell_type": "markdown",
   "metadata": {},
   "source": [
    "The constraints can now be added at each time step. We can note that the time steps are not correlated, so solving every time steps at once corresponds to solving n models of 1 time step.\n",
    "\n",
    "The objective is incremented with the price of the production means at each time step"
   ]
  },
  {
   "cell_type": "code",
   "execution_count": 4,
   "metadata": {},
   "outputs": [],
   "source": [
    "objective = 0\n",
    "for i in range(20):\n",
    "    model += production_1[i] + production_2[i] == load[i]\n",
    "    objective += 1 * production_1[i] + 5 * production_2[i]"
   ]
  },
  {
   "cell_type": "markdown",
   "metadata": {},
   "source": [
    "We can now provide the objective of the model that we are willing to minimize."
   ]
  },
  {
   "cell_type": "code",
   "execution_count": 5,
   "metadata": {},
   "outputs": [],
   "source": [
    "model.set_objective(\"min\", objective)"
   ]
  },
  {
   "cell_type": "markdown",
   "metadata": {},
   "source": [
    "For education purposes, it can be very informative to write down the model that the solver will read, it can be done using the command:"
   ]
  },
  {
   "cell_type": "code",
   "execution_count": 6,
   "metadata": {},
   "outputs": [
    {
     "data": {
      "text/plain": [
       "'my_multiple_lp_problem.lp'"
      ]
     },
     "execution_count": 6,
     "metadata": {},
     "output_type": "execute_result"
    }
   ],
   "source": [
    "model.export_as_lp(\"my_multiple_lp_problem.lp\")"
   ]
  },
  {
   "cell_type": "markdown",
   "metadata": {},
   "source": [
    "The problem can now be solved and the results imported from the solver."
   ]
  },
  {
   "cell_type": "code",
   "execution_count": 7,
   "metadata": {},
   "outputs": [
    {
     "name": "stdout",
     "output_type": "stream",
     "text": [
      "Version identifier: 22.1.0.0 | 2022-03-25 | 54982fbec\n",
      "CPXPARAM_Read_DataCheck                          1\n",
      "Tried aggregator 1 time.\n",
      "LP Presolve eliminated 20 rows and 40 columns.\n",
      "All rows and columns eliminated.\n",
      "Presolve time = 0.01 sec. (0.01 ticks)\n"
     ]
    },
    {
     "data": {
      "text/plain": [
       "docplex.mp.solution.SolveSolution(obj=478.913,values={production_1_0:15,.."
      ]
     },
     "execution_count": 7,
     "metadata": {},
     "output_type": "execute_result"
    }
   ],
   "source": [
    "model.solve(log_output = True)"
   ]
  },
  {
   "cell_type": "markdown",
   "metadata": {},
   "source": [
    "The following plots the respective production of both means, we can see that \"Production 1\" produces as much as possible limited by its capacity, and \"Production 2\" produces the rest."
   ]
  },
  {
   "cell_type": "code",
   "execution_count": 8,
   "metadata": {},
   "outputs": [
    {
     "data": {
      "image/png": "[encoded data removed]",
      "text/plain": [
       "<Figure size 432x288 with 1 Axes>"
      ]
     },
     "metadata": {
      "needs_background": "light"
     },
     "output_type": "display_data"
    }
   ],
   "source": [
    "prod_1_solution = [val.solution_value for val in production_1]\n",
    "prod_2_solution = [val.solution_value for val in production_2]\n",
    "\n",
    "plt.plot(range(0,20), prod_1_solution, label = \"Producion 1\")\n",
    "plt.plot(range(0,20), prod_2_solution, label = \"Producion 2\")\n",
    "plt.plot(range(0,20), load, label = \"Load\")\n",
    "\n",
    "plt.legend()\n",
    "plt.show()"
   ]
  }
 ],
 "metadata": {
  "kernelspec": {
   "display_name": "Python 3.8.6 64-bit",
   "language": "python",
   "name": "python3"
  },
  "language_info": {
   "codemirror_mode": {
    "name": "ipython",
    "version": 3
   },
   "file_extension": ".py",
   "mimetype": "text/x-python",
   "name": "python",
   "nbconvert_exporter": "python",
   "pygments_lexer": "ipython3",
   "version": "3.8.6"
  },
  "orig_nbformat": 4,
  "vscode": {
   "interpreter": {
    "hash": "607c9d130faaa095f31b442aeb6137952055d42a4967c60029f806fc28f5e80d"
   }
  }
 },
 "nbformat": 4,
 "nbformat_minor": 2
}
