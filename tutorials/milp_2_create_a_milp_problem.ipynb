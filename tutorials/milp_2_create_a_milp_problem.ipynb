{
 "cells": [
  {
   "cell_type": "markdown",
   "metadata": {},
   "source": [
    "## MILP tutorial 2 : make a milp model\n",
    "\n",
    "This tutorial requires a full understanding of the previous tutorials of the serie\n",
    "\n",
    "In this tutorial, we extend the previous problem to integer variables. "
   ]
  },
  {
   "cell_type": "markdown",
   "metadata": {},
   "source": [
    "####   Create a MILP model\n",
    "\n",
    "As in tutorial 1, we have a load to supply using two production means. The first, can only supply a package of energy (car battery replacement for example), while the second can supply any amount of energy at a greater price. The problem properties are the following:\n",
    "\n",
    "-   Load : 20 MW\n",
    "-   Prod1 :\n",
    "    - package energy : 7MWh\n",
    "    - price : 1€ / package\n",
    "-   Prod2 :\n",
    "    - maximum power : 15MW\n",
    "    - price : 5€ / MW\n",
    "\n",
    "For energy/power consistency, we will consider that out time step is 1h.\n",
    "\n",
    "Intuitively, the Prod1 mean is expected to provide 2 packages, and the Prod2 is expected to be used to supply the remaining load."
   ]
  },
  {
   "cell_type": "code",
   "execution_count": 1,
   "metadata": {},
   "outputs": [],
   "source": [
    "# Import the Docplex Model object that manages the problem and its resolution\n",
    "from docplex.mp.model import Model\n",
    "model = Model()"
   ]
  },
  {
   "cell_type": "markdown",
   "metadata": {},
   "source": [
    "In that case, we do not need to set a maximum to the production_1 variable as the count of packages bought will naturally be limited by the resolution. The production_1 variable can here take any integer value above 0."
   ]
  },
  {
   "cell_type": "code",
   "execution_count": 2,
   "metadata": {},
   "outputs": [],
   "source": [
    "production_1 = model.integer_var(name=\"production_1\", lb=0, ub=None)\n",
    "production_2 = model.continuous_var(name=\"production_2\", lb=0, ub=15)"
   ]
  },
  {
   "cell_type": "markdown",
   "metadata": {},
   "source": [
    "To make a 7 MWh package from an integer, we only need to multiply it by 7"
   ]
  },
  {
   "cell_type": "code",
   "execution_count": 3,
   "metadata": {},
   "outputs": [],
   "source": [
    "model += production_1 * 7 + production_2 == 20"
   ]
  },
  {
   "cell_type": "markdown",
   "metadata": {},
   "source": [
    "We can now provide the objective of the model that we are willing to minimize."
   ]
  },
  {
   "cell_type": "code",
   "execution_count": 4,
   "metadata": {},
   "outputs": [],
   "source": [
    "model.set_objective(\"min\", 1 * production_1 + 5 * production_2)"
   ]
  },
  {
   "cell_type": "markdown",
   "metadata": {},
   "source": [
    "For education purposes, it can be very informative to write down the model that the solver will read, it can be done using the command:"
   ]
  },
  {
   "cell_type": "code",
   "execution_count": 5,
   "metadata": {},
   "outputs": [
    {
     "data": {
      "text/plain": [
       "'my_milp_problem.lp'"
      ]
     },
     "execution_count": 5,
     "metadata": {},
     "output_type": "execute_result"
    }
   ],
   "source": [
    "model.export_as_lp(\"my_milp_problem.lp\")"
   ]
  },
  {
   "cell_type": "markdown",
   "metadata": {},
   "source": [
    "The problem can now be solved and the results imported from the solver. We find the couple (2*7, 6) as we expected:\n",
    "\n",
    "- We want as many batteries as possible as they are cheaper;\n",
    "- We cannot provide the remaining 6 MWh with a battery as there would be an excess of 1MWh."
   ]
  },
  {
   "cell_type": "code",
   "execution_count": 6,
   "metadata": {},
   "outputs": [
    {
     "name": "stdout",
     "output_type": "stream",
     "text": [
      "CPXPARAM_Read_DataCheck                          1\n",
      "Tried aggregator 1 time.\n",
      "MIP Presolve eliminated 1 rows and 2 columns.\n",
      "All rows and columns eliminated.\n",
      "Presolve time = 0.00 sec. (0.00 ticks)\n",
      "\n",
      "Root node processing (before b&c):\n",
      "  Real time             =    0.00 sec. (0.00 ticks)\n",
      "Parallel b&c, 8 threads:\n",
      "  Real time             =    0.00 sec. (0.00 ticks)\n",
      "  Sync time (average)   =    0.00 sec.\n",
      "  Wait time (average)   =    0.00 sec.\n",
      "                          ------------\n",
      "Total (root+branch&cut) =    0.00 sec. (0.00 ticks)\n",
      "\n",
      "Results: 2.0 * 7, 6.0\n"
     ]
    }
   ],
   "source": [
    "model.solve(log_output = True)\n",
    "\n",
    "print(f\"\\nResults: {production_1.solution_value} * 7, {production_2.solution_value}\")"
   ]
  }
 ],
 "metadata": {
  "kernelspec": {
   "display_name": "Python 3.8.6 64-bit",
   "language": "python",
   "name": "python3"
  },
  "language_info": {
   "codemirror_mode": {
    "name": "ipython",
    "version": 3
   },
   "file_extension": ".py",
   "mimetype": "text/x-python",
   "name": "python",
   "nbconvert_exporter": "python",
   "pygments_lexer": "ipython3",
   "version": "3.8.6"
  },
  "orig_nbformat": 4,
  "vscode": {
   "interpreter": {
    "hash": "607c9d130faaa095f31b442aeb6137952055d42a4967c60029f806fc28f5e80d"
   }
  }
 },
 "nbformat": 4,
 "nbformat_minor": 2
}
