{
 "cells": [
  {
   "cell_type": "markdown",
   "metadata": {},
   "source": [
    "## MILP tutorial 1 : make a linear model\n",
    "\n",
    "This tutorial is the first of a more elementary serie aimed to explain the concepts behind a MILP model and how to set up one. This tutorial serie is applied to energy system optimisations, but can be extended to any system optimisation.\n",
    "\n",
    "A Mixed Integer Linear Programming problem consists in optimizing a set of variables (continuous or discrete) in order to minimize a cost function. Equality or inequality constraints can be set between the variables to make the model more complex.\n",
    "\n",
    "An example of linear problem would be:\n",
    "\n",
    "-   with x a continuous variable\n",
    "-   minimize(x)\n",
    "-   x >= 3\n",
    "\n",
    "x = 3 is the obvious answer to this problem\n",
    "\n",
    "A similarly simple MILP problem would be:\n",
    "\n",
    "-   with x a discrete variable\n",
    "-   minimize(x)\n",
    "-   x >= 2.5\n",
    "\n",
    "x = 3 is again the obvious answer to the problem"
   ]
  },
  {
   "cell_type": "markdown",
   "metadata": {},
   "source": [
    "###   Imports\n",
    "\n",
    "Many python module allow to intuitively set-up a MILP model and does the interface with the solver, including mip, pyomo, ortools... We will in this tutorial use the docplex module that has a limited free version sufficient to run these tutorials. The online documentation can be found here:\n",
    "\n",
    "https://www.ibm.com/docs/en/icos/22.1.1?topic=docplex-python-modeling-api"
   ]
  },
  {
   "cell_type": "code",
   "execution_count": 9,
   "metadata": {},
   "outputs": [],
   "source": [
    "# Import the Docplex Model object that manages the problem and its resolution\n",
    "from docplex.mp.model import Model"
   ]
  },
  {
   "cell_type": "markdown",
   "metadata": {},
   "source": [
    "###   Create a linear model\n",
    "\n",
    "In this section we create a minimalistic energy mix problem where we have two production means that can be used in order to answer to a energy load. The problem properties are the following:\n",
    "\n",
    "-   Load : 20 MW\n",
    "-   Prod1 :\n",
    "    - maximum power : 15MW\n",
    "    - price : 1€ / MW\n",
    "-   Prod2 :\n",
    "    - maximum power : 15MW\n",
    "    - price : 5€ / MW\n",
    "\n",
    "Intuitively, the Prod1 mean is expected to be fully used, and the Prod2 is expected to be used to supply the remaining load."
   ]
  },
  {
   "cell_type": "markdown",
   "metadata": {},
   "source": [
    "To create this model and solve it, a Model object needs to be created. It will \n",
    "- provide the variables;\n",
    "- store the constraints;\n",
    "- store the optimisation function;\n",
    "- solve the problem."
   ]
  },
  {
   "cell_type": "code",
   "execution_count": 10,
   "metadata": {},
   "outputs": [],
   "source": [
    "model = Model()"
   ]
  },
  {
   "cell_type": "markdown",
   "metadata": {},
   "source": [
    "The variable can now be accessed. Our problem has two variables: one per production mean.\n",
    "\n",
    "Note that:\n",
    "- The production being positive, a lower bound is set.\n",
    "- The production of both means being lower than 15MW, this value is set as upper bound.\n",
    "\n",
    "These lower and upper bound will in the end create one inequality constraint each per variable."
   ]
  },
  {
   "cell_type": "code",
   "execution_count": 11,
   "metadata": {},
   "outputs": [],
   "source": [
    "production_1 = model.continuous_var(name=\"production_1\", lb=0, ub=15)\n",
    "production_2 = model.continuous_var(name=\"production_2\", lb=0, ub=15)"
   ]
  },
  {
   "cell_type": "markdown",
   "metadata": {},
   "source": [
    "The constraints can now be added. In our model, we need the sum of these productions to equal the load (20)."
   ]
  },
  {
   "cell_type": "code",
   "execution_count": 12,
   "metadata": {},
   "outputs": [],
   "source": [
    "model += production_1 + production_2 == 20"
   ]
  },
  {
   "cell_type": "markdown",
   "metadata": {},
   "source": [
    "We can now provide the objective of the model that we are willing to minimize."
   ]
  },
  {
   "cell_type": "code",
   "execution_count": 13,
   "metadata": {},
   "outputs": [],
   "source": [
    "model.set_objective(\"min\", 1 * production_1 + 5 * production_2)"
   ]
  },
  {
   "cell_type": "markdown",
   "metadata": {},
   "source": [
    "For education purposes, it can be very informative to write down the model that the solver will read, it can be done using the command:"
   ]
  },
  {
   "cell_type": "code",
   "execution_count": 14,
   "metadata": {},
   "outputs": [
    {
     "data": {
      "text/plain": [
       "'my_lp_problem.lp'"
      ]
     },
     "execution_count": 14,
     "metadata": {},
     "output_type": "execute_result"
    }
   ],
   "source": [
    "model.export_as_lp(\"my_lp_problem.lp\")"
   ]
  },
  {
   "cell_type": "markdown",
   "metadata": {},
   "source": [
    "The problem can now be solved and the results imported from the solver. We find the couple (15, 5) as we expected."
   ]
  },
  {
   "cell_type": "code",
   "execution_count": 15,
   "metadata": {},
   "outputs": [
    {
     "name": "stdout",
     "output_type": "stream",
     "text": [
      "CPXPARAM_Read_DataCheck                          1\n",
      "Tried aggregator 1 time.\n",
      "LP Presolve eliminated 1 rows and 2 columns.\n",
      "All rows and columns eliminated.\n",
      "Presolve time = 0.00 sec. (0.00 ticks)\n",
      "\n",
      "Results: 15.0, 5.0\n"
     ]
    }
   ],
   "source": [
    "model.solve(log_output = True)\n",
    "\n",
    "print(f\"\\nResults: {production_1.solution_value}, {production_2.solution_value}\")"
   ]
  }
 ],
 "metadata": {
  "kernelspec": {
   "display_name": "Python 3.7.9 64-bit",
   "language": "python",
   "name": "python3"
  },
  "language_info": {
   "codemirror_mode": {
    "name": "ipython",
    "version": 3
   },
   "file_extension": ".py",
   "mimetype": "text/x-python",
   "name": "python",
   "nbconvert_exporter": "python",
   "pygments_lexer": "ipython3",
   "version": "3.7.9"
  },
  "orig_nbformat": 4,
  "vscode": {
   "interpreter": {
    "hash": "d49c3f6d6dd49f9272b571d9fad348ab55b8c6c3f691520d74ed0af1f69c3dd8"
   }
  }
 },
 "nbformat": 4,
 "nbformat_minor": 2
}
