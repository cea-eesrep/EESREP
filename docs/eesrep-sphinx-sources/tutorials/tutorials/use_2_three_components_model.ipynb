{
 "cells": [
  {
   "cell_type": "markdown",
   "metadata": {},
   "source": [
    "## User tutorial 2 : few components model\n",
    "\n",
    "This tutorial show how to set-up and solve a few components model using EESREP. For a full understanding, read the first tutorial before.\n",
    "\n",
    "\n",
    "This model takes four main components:\n",
    "-   load : requests a pre-defined amount of energy;\n",
    "-   cluster : group of N machines providing energy between its minimal and maximal power when turned-on;\n",
    "-   source_cluster : provides the energy requested by the cluster;\n",
    "-   source : provides the remaining energy at a higher cost than the cluster.\n",
    "\n",
    "A \"bus\" is added to make a low of the nodes between the inputs and the outputs\n",
    "\n",
    "The structure of the model can be illustrated as follow:\n",
    "\n",
    "                        source -->  |\n",
    "                                    | -->  load\n",
    "    source_cluster --> cluster -->  |"
   ]
  },
  {
   "cell_type": "markdown",
   "metadata": {},
   "source": [
    "###   Imports"
   ]
  },
  {
   "cell_type": "code",
   "execution_count": 1,
   "metadata": {},
   "outputs": [],
   "source": [
    "import math\n",
    "\n",
    "import pandas as pd\n",
    "import matplotlib.pyplot as plt\n",
    "\n",
    "from eesrep import Eesrep\n",
    "from eesrep.components.sink_source import Source, FatalSink\n",
    "from eesrep.components.converter import Cluster"
   ]
  },
  {
   "cell_type": "markdown",
   "metadata": {},
   "source": [
    "###   Create model"
   ]
  },
  {
   "cell_type": "markdown",
   "metadata": {},
   "source": [
    "Create the Eesrep object and every components."
   ]
  },
  {
   "cell_type": "code",
   "execution_count": 2,
   "metadata": {},
   "outputs": [],
   "source": [
    "model = Eesrep()\n",
    "\n",
    "model.add_component(Source(\"source\", 0., 100, 1.))\n",
    "model.add_component(Source(\"source_cluster\", 0., 100, .5))\n",
    "\n",
    "model.add_component(Cluster(name=\"cluster\",\n",
    "                                efficiency=1.,\n",
    "                                p_max=10.,\n",
    "                                p_min=1.,\n",
    "                                n_machine_max=10,\n",
    "                                duration_on=1,\n",
    "                                duration_off=1,\n",
    "                                turn_on_price=0.))\n",
    "\n",
    "model.add_component(FatalSink(\"load\", \n",
    "                                pd.DataFrame({\"time\": list(range(1001)), \n",
    "                                                \"value\": [i*100/1000 for i in range(1001)]})))"
   ]
  },
  {
   "cell_type": "markdown",
   "metadata": {},
   "source": [
    "Create the bus and link the components together.\n",
    "\n",
    "Similarly to the add_link function, the plug_to_bus function takes few arguments:\n",
    "-   name of the component to plug to the bus;\n",
    "-   input/output of the component to plug to the bus;\n",
    "-   name of the bus;\n",
    "-   if we are plugging an input (boolean);\n",
    "-   multiplication factor;\n",
    "-   offset."
   ]
  },
  {
   "cell_type": "code",
   "execution_count": 3,
   "metadata": {},
   "outputs": [],
   "source": [
    "model.create_bus(\"bus\", {\n",
    "                            \"name\":\"bus_1\"\n",
    "                        })\n",
    "                        \n",
    "model.plug_to_bus(\"source\", \"power_out\", \"bus_1\", False, 1., 0.)\n",
    "model.plug_to_bus(\"cluster\", \"power_out\", \"bus_1\", False, 1., 0.)\n",
    "model.plug_to_bus(\"load\", \"power_in\", \"bus_1\", True, 1., 0.)\n",
    "\n",
    "model.add_link(\"source_cluster\", \"power_out\", \"cluster\", \"power_in\", 1., 0.)"
   ]
  },
  {
   "cell_type": "markdown",
   "metadata": {},
   "source": [
    "###   Set up simulation"
   ]
  },
  {
   "cell_type": "markdown",
   "metadata": {},
   "source": [
    "In this tutorial, we ask EESREP to split the 1000 time steps resolution in 10 * 100 time steps. Each resolution will start 100 steps after the previous, making no overlap between each resolution.\n",
    "\n",
    "Each resolution is faster, but more are required. A good balance needs to be found between the time range parameters to get a proper result at a good computation time."
   ]
  },
  {
   "cell_type": "code",
   "execution_count": 4,
   "metadata": {},
   "outputs": [],
   "source": [
    "model.define_time_range(1., 100, 100, 10)"
   ]
  },
  {
   "cell_type": "markdown",
   "metadata": {},
   "source": [
    "###   Solve and get results"
   ]
  },
  {
   "cell_type": "code",
   "execution_count": 5,
   "metadata": {},
   "outputs": [
    {
     "name": "stdout",
     "output_type": "stream",
     "text": [
      "Running first time step\n",
      "Running time step 2\n",
      "Running time step 3\n",
      "Running time step 4\n",
      "Running time step 5\n",
      "Running time step 6\n",
      "Running time step 7\n",
      "Running time step 8\n",
      "Running time step 9\n",
      "Running time step 10\n"
     ]
    }
   ],
   "source": [
    "model.solve()\n",
    "\n",
    "results = model.get_results(as_dataframe=False)"
   ]
  },
  {
   "cell_type": "code",
   "execution_count": 6,
   "metadata": {},
   "outputs": [
    {
     "name": "stdout",
     "output_type": "stream",
     "text": [
      "dict_keys(['source', 'source_cluster', 'cluster', 'load', 'time'])\n",
      "dict_keys(['power_in', 'power_out', 'turn_on', 'turn_off', 'turn_on_count', 'turn_off_count', 'n_machine'])\n"
     ]
    }
   ],
   "source": [
    "print(results.keys())\n",
    "print(results[\"cluster\"].keys())"
   ]
  },
  {
   "cell_type": "markdown",
   "metadata": {},
   "source": [
    "The cluster provides all of the requested power as it is cheaper than the other source.\n",
    "\n",
    "We can see that the cluster turns on machines incrementally as the requested load increases."
   ]
  },
  {
   "cell_type": "code",
   "execution_count": 7,
   "metadata": {},
   "outputs": [
    {
     "data": {
      "image/png": "[encoded data removed]",
      "text/plain": [
       "<Figure size 720x360 with 2 Axes>"
      ]
     },
     "metadata": {
      "needs_background": "light"
     },
     "output_type": "display_data"
    }
   ],
   "source": [
    "plt.figure(figsize=(10,5))\n",
    "plt.subplot(121)\n",
    "plt.plot(results[\"cluster\"][\"power_out\"], label = \"Cluster power out\", color=\"r\")\n",
    "plt.plot(results[\"source\"][\"power_out\"], label = \"Source power out\", color=\"g\")\n",
    "plt.plot(results[\"load\"][\"power_in\"], label = \"Load\", linestyle = \"dashed\", color=\"yellow\")\n",
    "plt.legend()\n",
    "plt.subplot(122)\n",
    "plt.plot(results[\"cluster\"][\"n_machine\"], label = \"Cluster running machines\")\n",
    "plt.legend()\n",
    "plt.show()"
   ]
  }
 ],
 "metadata": {
  "kernelspec": {
   "display_name": "Python 3.7.9 64-bit",
   "language": "python",
   "name": "python3"
  },
  "language_info": {
   "codemirror_mode": {
    "name": "ipython",
    "version": 3
   },
   "file_extension": ".py",
   "mimetype": "text/x-python",
   "name": "python",
   "nbconvert_exporter": "python",
   "pygments_lexer": "ipython3",
   "version": "3.7.9"
  },
  "orig_nbformat": 4,
  "vscode": {
   "interpreter": {
    "hash": "d49c3f6d6dd49f9272b571d9fad348ab55b8c6c3f691520d74ed0af1f69c3dd8"
   }
  }
 },
 "nbformat": 4,
 "nbformat_minor": 2
}
