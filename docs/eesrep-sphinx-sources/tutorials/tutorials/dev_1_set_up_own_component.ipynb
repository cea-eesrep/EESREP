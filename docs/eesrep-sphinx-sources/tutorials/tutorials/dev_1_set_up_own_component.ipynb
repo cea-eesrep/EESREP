{
 "cells": [
  {
   "cell_type": "markdown",
   "metadata": {},
   "source": [
    "## Tutorial development 1 : create a simple component\n",
    "\n",
    "In this document, we develop a now EESREP component. This component will make the cogeneration of electricty and heat from a fuel input.\n",
    "\n",
    "This tutorial is adapted to user who want to develop customized components and not simply use the built-in components. A full understanding of the user tutorials is necessary before starting development."
   ]
  },
  {
   "cell_type": "markdown",
   "metadata": {},
   "source": [
    "###   Imports"
   ]
  },
  {
   "cell_type": "code",
   "execution_count": 7,
   "metadata": {},
   "outputs": [],
   "source": [
    "import math\n",
    "\n",
    "import pandas as pd\n",
    "import matplotlib.pyplot as plt\n",
    "\n",
    "from eesrep import Eesrep\n",
    "from eesrep.components.generic_component import GenericComponent\n",
    "from eesrep.components.sink_source import FatalSink\n",
    "from eesrep.solver_interface.generic_interface import GenericInterface\n",
    "from eesrep.eesrep_enum import TimeSerieType"
   ]
  },
  {
   "cell_type": "markdown",
   "metadata": {},
   "source": [
    "### Create the component definition"
   ]
  },
  {
   "cell_type": "markdown",
   "metadata": {},
   "source": [
    "Every EESREP component must inherit from the GenerticComponent class, and define the three following functions:\n",
    "\n",
    "-   \\_\\_init\\_\\_ : Instanciates the object, and stores its parameters and time series.\n",
    "-   io_from_parameters : Lists the component Input/Outputs for a given set of parameters.\n",
    "-   build_model : creates the model equations at a given rolling horizon\n",
    "\n",
    "For the tutorial, the Cogeneration class is defined in several jupyter cell."
   ]
  },
  {
   "cell_type": "markdown",
   "metadata": {},
   "source": [
    "The first function defined here is **\\_\\_init\\_\\_**.\n",
    "\n",
    "The function creates the object taking both the parameters and the time series for the whole simulation. The parameters have to be set as class attributes, and the time series to be stored in a dictionnary attribute called time_series. An exemple is provided in the following cell.\n",
    "\n",
    "This component will have two inputs and one output. The model will be :\n",
    "\n",
    "    output(t) = (intput1(t) + input2(t)) * efficiency\n",
    "    intput2(t) = input1(t) * ratio\n",
    "\n",
    "The component will have a cost based on the output value.\n",
    "\n",
    "It is important to note here that the name of the component must be requested in by the \\_\\_init\\_\\_ function, and has to be stored in self.name."
   ]
  },
  {
   "cell_type": "code",
   "execution_count": 8,
   "metadata": {},
   "outputs": [],
   "source": [
    "class Cogeneration(GenericComponent):\n",
    "    \"\"\"EESREP cogeneration model :\n",
    "        The cogeneration output equals input1 * efficiency + input2 * ratio * efficiency\"\"\"\n",
    "\n",
    "    def __init__(self, \n",
    "                    name:str,\n",
    "                    efficiency:float,\n",
    "                    p_max:float,\n",
    "                    ratio:float,\n",
    "                    opex:float,\n",
    "                    some_ts:pd.DataFrame = pd.DataFrame()):\n",
    "        \n",
    "        self.name = name\n",
    "        self.efficiency = efficiency\n",
    "        self.p_max = p_max\n",
    "        self.ratio = ratio\n",
    "        self.opex = opex\n",
    "\n",
    "        #   Necessary object, instanciate empty if not used\n",
    "        self.time_series = {\n",
    "            # \"some_time_serie\":{\n",
    "            #     \"type\":TimeSerieType.INTENSIVE,\n",
    "            #     \"value\":some_ts\n",
    "            # } \n",
    "        }"
   ]
  },
  {
   "cell_type": "markdown",
   "metadata": {},
   "source": [
    "For this component, all variables will be intensive. As they don't need to be continuous from a rolling horizon to the next (as a storage value would), the continuity parameter is set to False.\n",
    "\n",
    "The parameters given in the dictionnary have no impact on the inputs/outputs presence in the component model."
   ]
  },
  {
   "cell_type": "code",
   "execution_count": 9,
   "metadata": {},
   "outputs": [],
   "source": [
    "\n",
    "class Cogeneration(Cogeneration):\n",
    "    \"\"\"EESREP cogeneration model :\n",
    "        The cogeneration output equals input1 * efficiency + input2 * ratio * efficiency\"\"\"\n",
    "\n",
    "    def io_from_parameters(self) -> dict:\n",
    "        \"\"\"Lists the component Input/Output.\n",
    "        \"\"\"\n",
    "        return {\n",
    "                    \"power_in1\":{\n",
    "                                    \"type\": TimeSerieType.INTENSIVE,\n",
    "                                    \"continuity\":False\n",
    "                                },\n",
    "                    \"power_in2\":{\n",
    "                                    \"type\": TimeSerieType.INTENSIVE,\n",
    "                                    \"continuity\":False\n",
    "                                },\n",
    "                    \"power_out\":{\n",
    "                                    \"type\": TimeSerieType.INTENSIVE,\n",
    "                                    \"continuity\":False\n",
    "                                }\n",
    "                }\n"
   ]
  },
  {
   "cell_type": "markdown",
   "metadata": {},
   "source": [
    "The building of the model is done in three steps:\n",
    "\n",
    "-   Variables creation : The variables are requested to the model inteface. You can either request one or several variables at a time, and request either continuous or discrete variables (float or int).\n",
    "\n",
    "-   Constraints declaration : At each time step of the horizon, the variables are linked to each others, or to float values, using equality/lower_than/greater_than constraints. The create_***_constraints functions expect, as first argument, a table listing all variables in the equation with their sign which will be summed as the left hand side of the equation, and a value as second argument, which will be the right hand side of the equation.\n",
    "\n",
    "-   Objective definition : The objective is set using the declared variables. A sum_variables function in the model_interface is available for summing more than 2 objects."
   ]
  },
  {
   "cell_type": "code",
   "execution_count": 10,
   "metadata": {},
   "outputs": [],
   "source": [
    "\n",
    "class Cogeneration(Cogeneration):\n",
    "    \"\"\"EESREP cogeneration model :\n",
    "        output = (input1 + input2) * efficiency \n",
    "        input2 = ratio*input1\n",
    "    \"\"\"\n",
    "\n",
    "    def build_model(self,\n",
    "        component_name:str,\n",
    "        time_steps:list,\n",
    "        time_series:pd.DataFrame,\n",
    "        history:pd.DataFrame,\n",
    "        model_interface:GenericInterface):\n",
    "        \"\"\"Builds the model at the current horizon.\n",
    "\n",
    "        Parameters\n",
    "        ----------\n",
    "        component_name : str\n",
    "            Component name to index the MILP variables\n",
    "        time_steps : list\n",
    "            List of the time steps length \n",
    "        time_series : pd.DataFrame\n",
    "            Dataframe containing the time series values at the current horizon time steps.\n",
    "        history : pd.DataFrame\n",
    "            Dataframe with the variables of previous iterations if \"continuity\" is at true.\n",
    "        model_interface : GenericInterface\n",
    "            Solver interface used to provide the variables\n",
    "\n",
    "        \"\"\"\n",
    "        variables = {}\n",
    "\n",
    "        variables[\"power_in1\"] = model_interface.get_new_continuous_variable_list(component_name+\"_power_in1_\", len(time_steps), 0, self.p_max)\n",
    "        variables[\"power_in2\"] = model_interface.get_new_continuous_variable_list(component_name+\"_power_in2_\", len(time_steps), 0, self.p_max)\n",
    "        variables[\"power_out\"] = model_interface.get_new_continuous_variable_list(component_name+\"_power_out_\", len(time_steps), 0, (1+self.ratio)*self.p_max)\n",
    "\n",
    "        for i in range(len(time_steps)):\n",
    "            model_interface.add_equality(model_interface.sum_variables([\n",
    "                                                                variables[\"power_out\"][i],\n",
    "                                                                -variables[\"power_in1\"][i]*self.efficiency, \n",
    "                                                                -variables[\"power_in2\"][i]*self.efficiency\n",
    "                                                            ]), \n",
    "                                                            0)\n",
    "                                                            \n",
    "            model_interface.add_equality(model_interface.sum_variables([\n",
    "                                                                variables[\"power_in1\"][i]*self.ratio, \n",
    "                                                                -variables[\"power_in2\"][i]\n",
    "                                                            ]), \n",
    "                                                            0)\n",
    "\n",
    "        objective = model_interface.sum_variables([val * self.opex for val in variables[\"power_out\"]])\n",
    "        \n",
    "        return variables, objective\n"
   ]
  },
  {
   "cell_type": "markdown",
   "metadata": {},
   "source": [
    "###   Create model"
   ]
  },
  {
   "cell_type": "markdown",
   "metadata": {},
   "source": [
    "Create the Eesrep object and declaration of the Cogeneration component type."
   ]
  },
  {
   "cell_type": "code",
   "execution_count": 11,
   "metadata": {},
   "outputs": [],
   "source": [
    "model = Eesrep(solver=\"CBC\")"
   ]
  },
  {
   "cell_type": "markdown",
   "metadata": {},
   "source": [
    "Create the bus and link the components together.\n",
    "\n",
    "Similarly to the add_link function, the plug_to_bus function takes few arguments:\n",
    "-   name of the component to plug to the bus;\n",
    "-   input/output of the component to plug to the bus;\n",
    "-   name of the bus;\n",
    "-   if we are plugging an input (boolean);\n",
    "-   multiplication factor;\n",
    "-   offset."
   ]
  },
  {
   "cell_type": "code",
   "execution_count": 12,
   "metadata": {},
   "outputs": [],
   "source": [
    "model.add_component(Cogeneration(\"cogeneration\",\n",
    "                                    efficiency=.9,\n",
    "                                    p_max=1000.,\n",
    "                                    ratio=2.,\n",
    "                                    opex=1.\n",
    "                                ))\n",
    "\n",
    "model.add_component(FatalSink(\"load\",pd.DataFrame({\"time\": list(range(101)), \"value\": [i for i in range(101)]})))\n",
    "\n",
    "model.add_link(\"cogeneration\", \"power_out\", \"load\", \"power_in\", 1., 0.)"
   ]
  },
  {
   "cell_type": "markdown",
   "metadata": {},
   "source": [
    "###   Set up simulation"
   ]
  },
  {
   "cell_type": "markdown",
   "metadata": {},
   "source": [
    "In this tutorial, we ask EESREP to split the 1000 time steps resolution in 10 * 100 time steps. Each resolution will start 100 steps after the previous, making no overlap between each resolution.\n",
    "\n",
    "Each resolution is faster, but more are required. A good balance needs to be found between the time range parameters to get a proper result at a good computation time."
   ]
  },
  {
   "cell_type": "code",
   "execution_count": 13,
   "metadata": {},
   "outputs": [],
   "source": [
    "model.define_time_range(1., 1, 100, 1)"
   ]
  },
  {
   "cell_type": "markdown",
   "metadata": {},
   "source": [
    "###   Solve and get results"
   ]
  },
  {
   "cell_type": "code",
   "execution_count": 14,
   "metadata": {},
   "outputs": [
    {
     "name": "stdout",
     "output_type": "stream",
     "text": [
      "Running first time step\n"
     ]
    }
   ],
   "source": [
    "model.solve()\n",
    "\n",
    "results = model.get_results(as_dataframe=True)"
   ]
  },
  {
   "cell_type": "markdown",
   "metadata": {},
   "source": [
    "The following plot displays that the component's behavior indeed matches the provided equations"
   ]
  },
  {
   "cell_type": "code",
   "execution_count": 15,
   "metadata": {},
   "outputs": [
    {
     "data": {
      "image/png": "[encoded data removed]",
      "text/plain": [
       "<Figure size 432x288 with 1 Axes>"
      ]
     },
     "metadata": {
      "needs_background": "light"
     },
     "output_type": "display_data"
    }
   ],
   "source": [
    "plt.plot(results[\"cogeneration_power_out\"], label = \"Power out\")\n",
    "plt.plot(results[\"cogeneration_power_in1\"], label = \"Power in 1\")\n",
    "plt.plot(results[\"cogeneration_power_in2\"], label = \"Power in 2\")\n",
    "plt.legend()\n",
    "plt.show()"
   ]
  }
 ],
 "metadata": {
  "kernelspec": {
   "display_name": "Python 3.7.9 64-bit",
   "language": "python",
   "name": "python3"
  },
  "language_info": {
   "codemirror_mode": {
    "name": "ipython",
    "version": 3
   },
   "file_extension": ".py",
   "mimetype": "text/x-python",
   "name": "python",
   "nbconvert_exporter": "python",
   "pygments_lexer": "ipython3",
   "version": "3.7.9"
  },
  "orig_nbformat": 4,
  "vscode": {
   "interpreter": {
    "hash": "d49c3f6d6dd49f9272b571d9fad348ab55b8c6c3f691520d74ed0af1f69c3dd8"
   }
  }
 },
 "nbformat": 4,
 "nbformat_minor": 2
}
